{
  "nbformat": 4,
  "nbformat_minor": 0,
  "metadata": {
    "accelerator": "GPU",
    "colab": {
      "name": "CV_Final_Project.ipynb",
      "provenance": [],
      "collapsed_sections": []
    },
    "kernelspec": {
      "display_name": "Python 3",
      "name": "python3"
    },
    "language_info": {
      "name": "python"
    },
    "widgets": {
      "application/vnd.jupyter.widget-state+json": {
        "4267b7c176534e0192df852e5292b730": {
          "model_module": "@jupyter-widgets/controls",
          "model_name": "HBoxModel",
          "model_module_version": "1.5.0",
          "state": {
            "_view_name": "HBoxView",
            "_dom_classes": [],
            "_model_name": "HBoxModel",
            "_view_module": "@jupyter-widgets/controls",
            "_model_module_version": "1.5.0",
            "_view_count": null,
            "_view_module_version": "1.5.0",
            "box_style": "",
            "layout": "IPY_MODEL_96ddef89ce6441b888dc88975f16c1c2",
            "_model_module": "@jupyter-widgets/controls",
            "children": [
              "IPY_MODEL_82d36b8832aa4bb3b2c5e1a218476ebd",
              "IPY_MODEL_6c24d9f805c649b3a0cebc316fbe1905",
              "IPY_MODEL_9e87e2e81bb9455999fd2034584589b1"
            ]
          }
        },
        "96ddef89ce6441b888dc88975f16c1c2": {
          "model_module": "@jupyter-widgets/base",
          "model_name": "LayoutModel",
          "model_module_version": "1.2.0",
          "state": {
            "_view_name": "LayoutView",
            "grid_template_rows": null,
            "right": null,
            "justify_content": null,
            "_view_module": "@jupyter-widgets/base",
            "overflow": null,
            "_model_module_version": "1.2.0",
            "_view_count": null,
            "flex_flow": null,
            "width": null,
            "min_width": null,
            "border": null,
            "align_items": null,
            "bottom": null,
            "_model_module": "@jupyter-widgets/base",
            "top": null,
            "grid_column": null,
            "overflow_y": null,
            "overflow_x": null,
            "grid_auto_flow": null,
            "grid_area": null,
            "grid_template_columns": null,
            "flex": null,
            "_model_name": "LayoutModel",
            "justify_items": null,
            "grid_row": null,
            "max_height": null,
            "align_content": null,
            "visibility": null,
            "align_self": null,
            "height": null,
            "min_height": null,
            "padding": null,
            "grid_auto_rows": null,
            "grid_gap": null,
            "max_width": null,
            "order": null,
            "_view_module_version": "1.2.0",
            "grid_template_areas": null,
            "object_position": null,
            "object_fit": null,
            "grid_auto_columns": null,
            "margin": null,
            "display": null,
            "left": null
          }
        },
        "82d36b8832aa4bb3b2c5e1a218476ebd": {
          "model_module": "@jupyter-widgets/controls",
          "model_name": "HTMLModel",
          "model_module_version": "1.5.0",
          "state": {
            "_view_name": "HTMLView",
            "style": "IPY_MODEL_d792c2efdbe84baea9fa9607e97b4628",
            "_dom_classes": [],
            "description": "",
            "_model_name": "HTMLModel",
            "placeholder": "​",
            "_view_module": "@jupyter-widgets/controls",
            "_model_module_version": "1.5.0",
            "value": "",
            "_view_count": null,
            "_view_module_version": "1.5.0",
            "description_tooltip": null,
            "_model_module": "@jupyter-widgets/controls",
            "layout": "IPY_MODEL_7634236e4c9348aaa12c0a71388fb4b8"
          }
        },
        "6c24d9f805c649b3a0cebc316fbe1905": {
          "model_module": "@jupyter-widgets/controls",
          "model_name": "FloatProgressModel",
          "model_module_version": "1.5.0",
          "state": {
            "_view_name": "ProgressView",
            "style": "IPY_MODEL_e632c9786287424c80e06587c1aaf043",
            "_dom_classes": [],
            "description": "",
            "_model_name": "FloatProgressModel",
            "bar_style": "success",
            "max": 170498071,
            "_view_module": "@jupyter-widgets/controls",
            "_model_module_version": "1.5.0",
            "value": 170498071,
            "_view_count": null,
            "_view_module_version": "1.5.0",
            "orientation": "horizontal",
            "min": 0,
            "description_tooltip": null,
            "_model_module": "@jupyter-widgets/controls",
            "layout": "IPY_MODEL_5700c254be86471193eebb7af7c0f279"
          }
        },
        "9e87e2e81bb9455999fd2034584589b1": {
          "model_module": "@jupyter-widgets/controls",
          "model_name": "HTMLModel",
          "model_module_version": "1.5.0",
          "state": {
            "_view_name": "HTMLView",
            "style": "IPY_MODEL_302a208dfee247518c0a2163dd0fae79",
            "_dom_classes": [],
            "description": "",
            "_model_name": "HTMLModel",
            "placeholder": "​",
            "_view_module": "@jupyter-widgets/controls",
            "_model_module_version": "1.5.0",
            "value": " 170499072/? [00:03&lt;00:00, 55040064.68it/s]",
            "_view_count": null,
            "_view_module_version": "1.5.0",
            "description_tooltip": null,
            "_model_module": "@jupyter-widgets/controls",
            "layout": "IPY_MODEL_953185b49c244c9fa8dd51c5b7b26b4e"
          }
        },
        "d792c2efdbe84baea9fa9607e97b4628": {
          "model_module": "@jupyter-widgets/controls",
          "model_name": "DescriptionStyleModel",
          "model_module_version": "1.5.0",
          "state": {
            "_view_name": "StyleView",
            "_model_name": "DescriptionStyleModel",
            "description_width": "",
            "_view_module": "@jupyter-widgets/base",
            "_model_module_version": "1.5.0",
            "_view_count": null,
            "_view_module_version": "1.2.0",
            "_model_module": "@jupyter-widgets/controls"
          }
        },
        "7634236e4c9348aaa12c0a71388fb4b8": {
          "model_module": "@jupyter-widgets/base",
          "model_name": "LayoutModel",
          "model_module_version": "1.2.0",
          "state": {
            "_view_name": "LayoutView",
            "grid_template_rows": null,
            "right": null,
            "justify_content": null,
            "_view_module": "@jupyter-widgets/base",
            "overflow": null,
            "_model_module_version": "1.2.0",
            "_view_count": null,
            "flex_flow": null,
            "width": null,
            "min_width": null,
            "border": null,
            "align_items": null,
            "bottom": null,
            "_model_module": "@jupyter-widgets/base",
            "top": null,
            "grid_column": null,
            "overflow_y": null,
            "overflow_x": null,
            "grid_auto_flow": null,
            "grid_area": null,
            "grid_template_columns": null,
            "flex": null,
            "_model_name": "LayoutModel",
            "justify_items": null,
            "grid_row": null,
            "max_height": null,
            "align_content": null,
            "visibility": null,
            "align_self": null,
            "height": null,
            "min_height": null,
            "padding": null,
            "grid_auto_rows": null,
            "grid_gap": null,
            "max_width": null,
            "order": null,
            "_view_module_version": "1.2.0",
            "grid_template_areas": null,
            "object_position": null,
            "object_fit": null,
            "grid_auto_columns": null,
            "margin": null,
            "display": null,
            "left": null
          }
        },
        "e632c9786287424c80e06587c1aaf043": {
          "model_module": "@jupyter-widgets/controls",
          "model_name": "ProgressStyleModel",
          "model_module_version": "1.5.0",
          "state": {
            "_view_name": "StyleView",
            "_model_name": "ProgressStyleModel",
            "description_width": "",
            "_view_module": "@jupyter-widgets/base",
            "_model_module_version": "1.5.0",
            "_view_count": null,
            "_view_module_version": "1.2.0",
            "bar_color": null,
            "_model_module": "@jupyter-widgets/controls"
          }
        },
        "5700c254be86471193eebb7af7c0f279": {
          "model_module": "@jupyter-widgets/base",
          "model_name": "LayoutModel",
          "model_module_version": "1.2.0",
          "state": {
            "_view_name": "LayoutView",
            "grid_template_rows": null,
            "right": null,
            "justify_content": null,
            "_view_module": "@jupyter-widgets/base",
            "overflow": null,
            "_model_module_version": "1.2.0",
            "_view_count": null,
            "flex_flow": null,
            "width": null,
            "min_width": null,
            "border": null,
            "align_items": null,
            "bottom": null,
            "_model_module": "@jupyter-widgets/base",
            "top": null,
            "grid_column": null,
            "overflow_y": null,
            "overflow_x": null,
            "grid_auto_flow": null,
            "grid_area": null,
            "grid_template_columns": null,
            "flex": null,
            "_model_name": "LayoutModel",
            "justify_items": null,
            "grid_row": null,
            "max_height": null,
            "align_content": null,
            "visibility": null,
            "align_self": null,
            "height": null,
            "min_height": null,
            "padding": null,
            "grid_auto_rows": null,
            "grid_gap": null,
            "max_width": null,
            "order": null,
            "_view_module_version": "1.2.0",
            "grid_template_areas": null,
            "object_position": null,
            "object_fit": null,
            "grid_auto_columns": null,
            "margin": null,
            "display": null,
            "left": null
          }
        },
        "302a208dfee247518c0a2163dd0fae79": {
          "model_module": "@jupyter-widgets/controls",
          "model_name": "DescriptionStyleModel",
          "model_module_version": "1.5.0",
          "state": {
            "_view_name": "StyleView",
            "_model_name": "DescriptionStyleModel",
            "description_width": "",
            "_view_module": "@jupyter-widgets/base",
            "_model_module_version": "1.5.0",
            "_view_count": null,
            "_view_module_version": "1.2.0",
            "_model_module": "@jupyter-widgets/controls"
          }
        },
        "953185b49c244c9fa8dd51c5b7b26b4e": {
          "model_module": "@jupyter-widgets/base",
          "model_name": "LayoutModel",
          "model_module_version": "1.2.0",
          "state": {
            "_view_name": "LayoutView",
            "grid_template_rows": null,
            "right": null,
            "justify_content": null,
            "_view_module": "@jupyter-widgets/base",
            "overflow": null,
            "_model_module_version": "1.2.0",
            "_view_count": null,
            "flex_flow": null,
            "width": null,
            "min_width": null,
            "border": null,
            "align_items": null,
            "bottom": null,
            "_model_module": "@jupyter-widgets/base",
            "top": null,
            "grid_column": null,
            "overflow_y": null,
            "overflow_x": null,
            "grid_auto_flow": null,
            "grid_area": null,
            "grid_template_columns": null,
            "flex": null,
            "_model_name": "LayoutModel",
            "justify_items": null,
            "grid_row": null,
            "max_height": null,
            "align_content": null,
            "visibility": null,
            "align_self": null,
            "height": null,
            "min_height": null,
            "padding": null,
            "grid_auto_rows": null,
            "grid_gap": null,
            "max_width": null,
            "order": null,
            "_view_module_version": "1.2.0",
            "grid_template_areas": null,
            "object_position": null,
            "object_fit": null,
            "grid_auto_columns": null,
            "margin": null,
            "display": null,
            "left": null
          }
        }
      }
    }
  },
  "cells": [
    {
      "cell_type": "markdown",
      "metadata": {
        "id": "m-mfW_NzWz1i"
      },
      "source": [
        "## **Import necessary library and define global variables**"
      ]
    },
    {
      "cell_type": "code",
      "metadata": {
        "id": "_AF-tcBC26uA"
      },
      "source": [
        "import torch\n",
        "import torch.nn as nn\n",
        "import torchvision\n",
        "from torchvision import transforms as transforms\n",
        "import torch.nn.functional as F\n",
        "import matplotlib.pyplot as plt\n",
        "import numpy as np\n",
        "from torch.utils.data import random_split"
      ],
      "execution_count": 1,
      "outputs": []
    },
    {
      "cell_type": "code",
      "metadata": {
        "id": "yXRh_pFnELIb"
      },
      "source": [
        "device = torch.device('cuda' if torch.cuda.is_available() else 'cpu')"
      ],
      "execution_count": 2,
      "outputs": []
    },
    {
      "cell_type": "code",
      "metadata": {
        "id": "7ZfltZisEqai"
      },
      "source": [
        "num_epochs = 50\n",
        "batch_size = 8\n",
        "learning_rate = 0.0003"
      ],
      "execution_count": 3,
      "outputs": []
    },
    {
      "cell_type": "markdown",
      "metadata": {
        "id": "mFcLeaDUDZP8"
      },
      "source": [
        "## **Program a data loader for CIFAR-10 dataset:**"
      ]
    },
    {
      "cell_type": "code",
      "metadata": {
        "colab": {
          "base_uri": "https://localhost:8080/",
          "height": 100,
          "referenced_widgets": [
            "4267b7c176534e0192df852e5292b730",
            "96ddef89ce6441b888dc88975f16c1c2",
            "82d36b8832aa4bb3b2c5e1a218476ebd",
            "6c24d9f805c649b3a0cebc316fbe1905",
            "9e87e2e81bb9455999fd2034584589b1",
            "d792c2efdbe84baea9fa9607e97b4628",
            "7634236e4c9348aaa12c0a71388fb4b8",
            "e632c9786287424c80e06587c1aaf043",
            "5700c254be86471193eebb7af7c0f279",
            "302a208dfee247518c0a2163dd0fae79",
            "953185b49c244c9fa8dd51c5b7b26b4e"
          ]
        },
        "id": "Zp9HNzGs8m_C",
        "outputId": "8e3fe3e6-fcb8-4209-9524-9492bb8099ff"
      },
      "source": [
        "torch.manual_seed(43)\n",
        "\n",
        "#image normalization\n",
        "transform = transforms.Compose([transforms.ToTensor(), transforms.Normalize((0.5, 0.5, 0.5), (0.5, 0.5, 0.5))])\n",
        "trainset = torchvision.datasets.CIFAR10(root='./data', train=True, download=True, transform=transform)\n",
        "\n",
        "val_size = 5000\n",
        "train_size = len(trainset) - val_size\n",
        "trainset, valset = random_split(trainset, [train_size, val_size])\n",
        "\n",
        "testset = torchvision.datasets.CIFAR10(root='./data', train=False, download=True, transform=transform)\n",
        "train_loader = torch.utils.data.DataLoader(trainset, batch_size = batch_size, shuffle = True, num_workers = 2)\n",
        "val_loader = torch.utils.data.DataLoader(valset, batch_size = batch_size, shuffle = True, num_workers = 2)\n",
        "testloader = torch.utils.data.DataLoader(testset, batch_size = batch_size, shuffle = True, num_workers=2)"
      ],
      "execution_count": 4,
      "outputs": [
        {
          "output_type": "stream",
          "name": "stdout",
          "text": [
            "Downloading https://www.cs.toronto.edu/~kriz/cifar-10-python.tar.gz to ./data/cifar-10-python.tar.gz\n"
          ]
        },
        {
          "output_type": "display_data",
          "data": {
            "application/vnd.jupyter.widget-view+json": {
              "model_id": "4267b7c176534e0192df852e5292b730",
              "version_minor": 0,
              "version_major": 2
            },
            "text/plain": [
              "  0%|          | 0/170498071 [00:00<?, ?it/s]"
            ]
          },
          "metadata": {}
        },
        {
          "output_type": "stream",
          "name": "stdout",
          "text": [
            "Extracting ./data/cifar-10-python.tar.gz to ./data\n",
            "Files already downloaded and verified\n"
          ]
        }
      ]
    },
    {
      "cell_type": "code",
      "metadata": {
        "id": "l-fDsWs4E2r6"
      },
      "source": [
        "classes = ('plane', 'car', 'bird', 'cat',\n",
        "           'deer', 'dog', 'frog', 'horse', 'ship', 'truck')"
      ],
      "execution_count": 5,
      "outputs": []
    },
    {
      "cell_type": "code",
      "metadata": {
        "colab": {
          "base_uri": "https://localhost:8080/"
        },
        "id": "KwKdXNcHTFP5",
        "outputId": "908d069e-1286-4de7-bac1-5a45f65cd6c2"
      },
      "source": [
        "train_size"
      ],
      "execution_count": 6,
      "outputs": [
        {
          "output_type": "execute_result",
          "data": {
            "text/plain": [
              "45000"
            ]
          },
          "metadata": {},
          "execution_count": 6
        }
      ]
    },
    {
      "cell_type": "markdown",
      "metadata": {
        "id": "M-ucxR8GDlBR"
      },
      "source": [
        "## **Built a LeNet model for image classification:**"
      ]
    },
    {
      "cell_type": "code",
      "metadata": {
        "id": "jAAYD8sHDYgB"
      },
      "source": [
        "class ConvNet(nn.Module):\n",
        "  def __init__(self):\n",
        "    super(ConvNet, self).__init__()\n",
        "    self.conv_layers = nn.Sequential(\n",
        "      nn.Conv2d(in_channels=3, out_channels=6, kernel_size=5, stride=1),\n",
        "      nn.Tanh(),\n",
        "      nn.AvgPool2d(kernel_size=2),\n",
        "      nn.Conv2d(in_channels=6, out_channels=16, kernel_size=5, stride=1),\n",
        "      nn.Tanh(),\n",
        "      nn.AvgPool2d(kernel_size=2),\n",
        "    )\n",
        "\n",
        "    self.FCL = nn.Sequential(\n",
        "      nn.Linear(16*5*5, 120),\n",
        "      nn.Tanh(),\n",
        "      nn.Linear(120, 84),\n",
        "      nn.Tanh(),\n",
        "      nn.Linear(84, 10),\n",
        "      nn.LogSoftmax(dim=1)\n",
        "    )\n",
        "\n",
        "\n",
        "  def forward(self, x):\n",
        "      x = self.conv_layers(x)\n",
        "      x = x.reshape(x.size(0), -1)\n",
        "      x = self.FCL(x)\n",
        "      return x"
      ],
      "execution_count": null,
      "outputs": []
    },
    {
      "cell_type": "markdown",
      "metadata": {
        "id": "0qxkG9UrMBA0"
      },
      "source": [
        "## **Write training frameworks to implement the classification pipeline:**"
      ]
    },
    {
      "cell_type": "code",
      "metadata": {
        "colab": {
          "base_uri": "https://localhost:8080/"
        },
        "id": "FFzLflMZLQ17",
        "outputId": "e54d835d-2279-475e-e708-bd9816421c68"
      },
      "source": [
        "model = ConvNet().to(device)\n",
        "train_losses = []\n",
        "val_losses = []\n",
        "criterion = nn.NLLLoss(reduction='sum')\n",
        "optimizer = torch.optim.SGD(model.parameters(), lr=learning_rate)\n",
        "n_total_steps = len(train_loader)\n",
        "\n",
        "for epoch in range(num_epochs):\n",
        "    total_train_loss = 0\n",
        "    for i, (images, labels) in enumerate(train_loader):\n",
        "        images = images.to(device)\n",
        "        labels = labels.to(device)\n",
        "\n",
        "        # Forward pass\n",
        "        outputs = model(images)\n",
        "        loss = criterion(outputs, labels)\n",
        "        total_train_loss += loss\n",
        "        # Backward and optimize\n",
        "        optimizer.zero_grad()\n",
        "        loss.backward()\n",
        "        optimizer.step()\n",
        "\n",
        "    \n",
        "    total_val_loss = 0\n",
        "    for j, (images, labels) in enumerate(val_loader):\n",
        "      images_val = images.to(device)\n",
        "      labels_val = labels.to(device)\n",
        "\n",
        "      outputs_val = model(images_val)\n",
        "\n",
        "      #by default losses are averaged across observations for each minibatch.\n",
        "      loss_val = criterion(outputs_val, labels_val)\n",
        "      total_val_loss += loss_val\n",
        "    print (f'Epoch [{epoch+1}/{num_epochs}], Train Loss: {total_train_loss/train_size:.4f}, Validation Loss: {total_val_loss/val_size:.4f}')\n",
        "    train_losses.append(total_train_loss/train_size)\n",
        "    val_losses.append(total_val_loss/val_size)"
      ],
      "execution_count": null,
      "outputs": [
        {
          "output_type": "stream",
          "name": "stdout",
          "text": [
            "Epoch [1/50], Train Loss: 2.0585, Validation Loss: 1.9389\n",
            "Epoch [2/50], Train Loss: 1.8648, Validation Loss: 1.8252\n",
            "Epoch [3/50], Train Loss: 1.7635, Validation Loss: 1.7435\n",
            "Epoch [4/50], Train Loss: 1.6842, Validation Loss: 1.6716\n",
            "Epoch [5/50], Train Loss: 1.5980, Validation Loss: 1.6020\n",
            "Epoch [6/50], Train Loss: 1.5247, Validation Loss: 1.5325\n",
            "Epoch [7/50], Train Loss: 1.4707, Validation Loss: 1.4869\n",
            "Epoch [8/50], Train Loss: 1.4265, Validation Loss: 1.4428\n",
            "Epoch [9/50], Train Loss: 1.3902, Validation Loss: 1.4252\n",
            "Epoch [10/50], Train Loss: 1.3579, Validation Loss: 1.3861\n",
            "Epoch [11/50], Train Loss: 1.3294, Validation Loss: 1.3736\n",
            "Epoch [12/50], Train Loss: 1.3039, Validation Loss: 1.3492\n",
            "Epoch [13/50], Train Loss: 1.2810, Validation Loss: 1.3533\n",
            "Epoch [14/50], Train Loss: 1.2577, Validation Loss: 1.3108\n",
            "Epoch [15/50], Train Loss: 1.2355, Validation Loss: 1.2973\n",
            "Epoch [16/50], Train Loss: 1.2164, Validation Loss: 1.2973\n",
            "Epoch [17/50], Train Loss: 1.1981, Validation Loss: 1.2704\n",
            "Epoch [18/50], Train Loss: 1.1790, Validation Loss: 1.2703\n",
            "Epoch [19/50], Train Loss: 1.1614, Validation Loss: 1.2600\n",
            "Epoch [20/50], Train Loss: 1.1444, Validation Loss: 1.2577\n",
            "Epoch [21/50], Train Loss: 1.1286, Validation Loss: 1.2366\n",
            "Epoch [22/50], Train Loss: 1.1121, Validation Loss: 1.2472\n",
            "Epoch [23/50], Train Loss: 1.0968, Validation Loss: 1.2242\n",
            "Epoch [24/50], Train Loss: 1.0802, Validation Loss: 1.2229\n",
            "Epoch [25/50], Train Loss: 1.0669, Validation Loss: 1.2244\n",
            "Epoch [26/50], Train Loss: 1.0511, Validation Loss: 1.2056\n",
            "Epoch [27/50], Train Loss: 1.0384, Validation Loss: 1.2084\n",
            "Epoch [28/50], Train Loss: 1.0251, Validation Loss: 1.2054\n",
            "Epoch [29/50], Train Loss: 1.0113, Validation Loss: 1.1910\n",
            "Epoch [30/50], Train Loss: 0.9973, Validation Loss: 1.1868\n",
            "Epoch [31/50], Train Loss: 0.9845, Validation Loss: 1.1905\n",
            "Epoch [32/50], Train Loss: 0.9713, Validation Loss: 1.1781\n",
            "Epoch [33/50], Train Loss: 0.9604, Validation Loss: 1.1799\n",
            "Epoch [34/50], Train Loss: 0.9479, Validation Loss: 1.1841\n",
            "Epoch [35/50], Train Loss: 0.9357, Validation Loss: 1.1986\n",
            "Epoch [36/50], Train Loss: 0.9235, Validation Loss: 1.1888\n",
            "Epoch [37/50], Train Loss: 0.9139, Validation Loss: 1.2034\n",
            "Epoch [38/50], Train Loss: 0.9030, Validation Loss: 1.1932\n",
            "Epoch [39/50], Train Loss: 0.8912, Validation Loss: 1.2085\n",
            "Epoch [40/50], Train Loss: 0.8804, Validation Loss: 1.1857\n",
            "Epoch [41/50], Train Loss: 0.8692, Validation Loss: 1.1935\n",
            "Epoch [42/50], Train Loss: 0.8590, Validation Loss: 1.1882\n",
            "Epoch [43/50], Train Loss: 0.8488, Validation Loss: 1.1971\n",
            "Epoch [44/50], Train Loss: 0.8387, Validation Loss: 1.1741\n",
            "Epoch [45/50], Train Loss: 0.8299, Validation Loss: 1.1994\n",
            "Epoch [46/50], Train Loss: 0.8188, Validation Loss: 1.1973\n",
            "Epoch [47/50], Train Loss: 0.8093, Validation Loss: 1.2034\n",
            "Epoch [48/50], Train Loss: 0.7988, Validation Loss: 1.1928\n",
            "Epoch [49/50], Train Loss: 0.7895, Validation Loss: 1.2072\n",
            "Epoch [50/50], Train Loss: 0.7805, Validation Loss: 1.2250\n"
          ]
        }
      ]
    },
    {
      "cell_type": "markdown",
      "metadata": {
        "id": "KnqnwQrcYWN2"
      },
      "source": [
        "## **Plot the loss for train and validation**"
      ]
    },
    {
      "cell_type": "code",
      "metadata": {
        "colab": {
          "base_uri": "https://localhost:8080/",
          "height": 279
        },
        "id": "BACoMeBagvBz",
        "outputId": "87d860c4-af4d-4fe9-cd70-5a2e45c21d8e"
      },
      "source": [
        "x = [i+1 for i in range(50)]\n",
        "plt.plot(x, train_losses, color = \"blue\", label = \"train loss\")\n",
        "plt.plot(x, val_losses, color = \"red\", label = \"validation loss\")\n",
        "plt.xlabel(\"Epochs\")\n",
        "plt.ylabel(\"Negative Log Likelihood Loss\")\n",
        "plt.legend()\n",
        "plt.show()"
      ],
      "execution_count": null,
      "outputs": [
        {
          "output_type": "display_data",
          "data": {
            "image/png": "[encoded data removed]",
            "text/plain": [
              "<Figure size 432x288 with 1 Axes>"
            ]
          },
          "metadata": {
            "needs_background": "light"
          }
        }
      ]
    },
    {
      "cell_type": "markdown",
      "metadata": {
        "id": "U_30TEEzwA_6"
      },
      "source": [
        "## **Write testing framework to evaluate the classification pipeline**"
      ]
    },
    {
      "cell_type": "code",
      "metadata": {
        "colab": {
          "base_uri": "https://localhost:8080/"
        },
        "id": "tR9xQbQwqrHL",
        "outputId": "d515dae9-dcee-48d3-c392-8d1e59760960"
      },
      "source": [
        "with torch.no_grad():\n",
        "    n_correct = 0\n",
        "    n_samples = 0\n",
        "    n_class_correct = [0 for i in range(10)]\n",
        "    n_class_samples = [0 for i in range(10)]\n",
        "    for images, labels in testloader:\n",
        "        images = images.to(device)\n",
        "        labels = labels.to(device)\n",
        "        outputs = model(images)\n",
        "        _, predicted = torch.max(outputs, 1)\n",
        "        for i in range(len(predicted)):\n",
        "          n_samples += 1\n",
        "          if predicted[i] == labels[i]:\n",
        "            n_correct += 1\n",
        "            n_class_correct[labels[i]] += 1\n",
        "          n_class_samples[labels[i]] += 1\n",
        "\n",
        "    acc = 100.0 * n_correct / n_samples\n",
        "    print(f'Total Accuracy: {acc} %')\n",
        "\n",
        "    for i in range(10):\n",
        "        acc = 100.0 * n_class_correct[i] / n_class_samples[i]\n",
        "        print(f'Accuracy of {classes[i]}: {acc} %')"
      ],
      "execution_count": null,
      "outputs": [
        {
          "output_type": "stream",
          "name": "stdout",
          "text": [
            "Total Accuracy: 60.25 %\n",
            "Accuracy of plane: 62.7 %\n",
            "Accuracy of car: 75.4 %\n",
            "Accuracy of bird: 36.3 %\n",
            "Accuracy of cat: 38.0 %\n",
            "Accuracy of deer: 59.8 %\n",
            "Accuracy of dog: 50.4 %\n",
            "Accuracy of frog: 70.6 %\n",
            "Accuracy of horse: 68.2 %\n",
            "Accuracy of ship: 73.8 %\n",
            "Accuracy of truck: 67.3 %\n"
          ]
        }
      ]
    },
    {
      "cell_type": "markdown",
      "metadata": {
        "id": "g8V2YcOjYmUX"
      },
      "source": [
        "## **improve the Lenet model by changing the optimizer from SGD to Adam and calculating validation accuracy instead of validation loss during training**"
      ]
    },
    {
      "cell_type": "code",
      "metadata": {
        "colab": {
          "base_uri": "https://localhost:8080/",
          "height": 1000
        },
        "id": "whuobV1m55je",
        "outputId": "330b4213-5a3d-456a-e50c-51ca0bffb296"
      },
      "source": [
        "#Adam can be looked at as a combination of RMSprop and Stochastic Gradient Descent with momentum. \n",
        "import torch.optim as optim\n",
        "epoches = 200\n",
        "model_3 = ConvNet().to(device)\n",
        "train_losses = []\n",
        "val_losses = []\n",
        "criterion = nn.NLLLoss(reduction='sum')\n",
        "optimizer = optim.Adam(model_3.parameters(), lr=0.0001)\n",
        "# optimizer = torch.optim.SGD(model.parameters(), lr=learning_rate)\n",
        "# scheduler = StepLR(optimizer, step_size=30, gamma=0.1)\n",
        "n_total_steps = len(train_loader)\n",
        "\n",
        "for epoch in range(epoches):\n",
        "    total_train_loss = 0\n",
        "    for i, (images, labels) in enumerate(train_loader):\n",
        "        images = images.to(device)\n",
        "        labels = labels.to(device)\n",
        "\n",
        "        # Forward pass\n",
        "        outputs = model_3(images)\n",
        "        loss = criterion(outputs, labels)\n",
        "        total_train_loss += loss.item()\n",
        "        # Backward and optimize\n",
        "        optimizer.zero_grad()\n",
        "        loss.backward()\n",
        "        optimizer.step()\n",
        "\n",
        "      \n",
        "    n_correct = 0\n",
        "    n_samples = 0\n",
        "    for images, labels in val_loader:\n",
        "      images_val = images.to(device)\n",
        "      labels_val = labels.to(device)\n",
        "      outputs_val = model_3(images_val)\n",
        "      _, val_predicted = torch.max(outputs_val, 1)\n",
        "      for i in range(len(val_predicted)):\n",
        "        n_samples += 1\n",
        "        if val_predicted[i] == labels[i]:\n",
        "          n_correct += 1\n",
        "    acc = 100.0 * n_correct / n_samples\n",
        "    print (f'Epoch [{epoch+1}/{epoches}], Train Loss: {total_train_loss/train_size:.4f}, Validation Accuracy:{acc} %')\n",
        "    train_losses.append(total_train_loss/train_size)\n",
        "    val_losses.append(acc)"
      ],
      "execution_count": null,
      "outputs": [
        {
          "output_type": "stream",
          "name": "stdout",
          "text": [
            "Epoch [1/200], Train Loss: 1.9113, Validation Accuracy:35.08 %\n",
            "Epoch [2/200], Train Loss: 1.7670, Validation Accuracy:38.66 %\n",
            "Epoch [3/200], Train Loss: 1.7009, Validation Accuracy:40.44 %\n",
            "Epoch [4/200], Train Loss: 1.6469, Validation Accuracy:41.26 %\n",
            "Epoch [5/200], Train Loss: 1.5945, Validation Accuracy:42.36 %\n",
            "Epoch [6/200], Train Loss: 1.5465, Validation Accuracy:44.4 %\n",
            "Epoch [7/200], Train Loss: 1.5041, Validation Accuracy:45.54 %\n",
            "Epoch [8/200], Train Loss: 1.4677, Validation Accuracy:45.66 %\n",
            "Epoch [9/200], Train Loss: 1.4352, Validation Accuracy:47.06 %\n",
            "Epoch [10/200], Train Loss: 1.4060, Validation Accuracy:48.72 %\n",
            "Epoch [11/200], Train Loss: 1.3816, Validation Accuracy:49.22 %\n",
            "Epoch [12/200], Train Loss: 1.3598, Validation Accuracy:49.68 %\n",
            "Epoch [13/200], Train Loss: 1.3407, Validation Accuracy:50.14 %\n",
            "Epoch [14/200], Train Loss: 1.3222, Validation Accuracy:51.4 %\n",
            "Epoch [15/200], Train Loss: 1.3058, Validation Accuracy:51.48 %\n",
            "Epoch [16/200], Train Loss: 1.2911, Validation Accuracy:51.44 %\n",
            "Epoch [17/200], Train Loss: 1.2768, Validation Accuracy:51.6 %\n",
            "Epoch [18/200], Train Loss: 1.2631, Validation Accuracy:52.24 %\n",
            "Epoch [19/200], Train Loss: 1.2495, Validation Accuracy:52.56 %\n",
            "Epoch [20/200], Train Loss: 1.2376, Validation Accuracy:52.08 %\n",
            "Epoch [21/200], Train Loss: 1.2271, Validation Accuracy:52.92 %\n",
            "Epoch [22/200], Train Loss: 1.2160, Validation Accuracy:53.02 %\n",
            "Epoch [23/200], Train Loss: 1.2050, Validation Accuracy:53.04 %\n",
            "Epoch [24/200], Train Loss: 1.1953, Validation Accuracy:53.26 %\n",
            "Epoch [25/200], Train Loss: 1.1855, Validation Accuracy:53.16 %\n",
            "Epoch [26/200], Train Loss: 1.1747, Validation Accuracy:53.5 %\n",
            "Epoch [27/200], Train Loss: 1.1670, Validation Accuracy:53.42 %\n",
            "Epoch [28/200], Train Loss: 1.1571, Validation Accuracy:53.56 %\n",
            "Epoch [29/200], Train Loss: 1.1489, Validation Accuracy:53.52 %\n",
            "Epoch [30/200], Train Loss: 1.1395, Validation Accuracy:54.04 %\n",
            "Epoch [31/200], Train Loss: 1.1312, Validation Accuracy:54.2 %\n",
            "Epoch [32/200], Train Loss: 1.1231, Validation Accuracy:54.38 %\n",
            "Epoch [33/200], Train Loss: 1.1158, Validation Accuracy:54.46 %\n",
            "Epoch [34/200], Train Loss: 1.1066, Validation Accuracy:53.6 %\n",
            "Epoch [35/200], Train Loss: 1.0999, Validation Accuracy:53.94 %\n",
            "Epoch [36/200], Train Loss: 1.0909, Validation Accuracy:54.78 %\n",
            "Epoch [37/200], Train Loss: 1.0847, Validation Accuracy:53.76 %\n",
            "Epoch [38/200], Train Loss: 1.0765, Validation Accuracy:55.02 %\n",
            "Epoch [39/200], Train Loss: 1.0692, Validation Accuracy:54.22 %\n",
            "Epoch [40/200], Train Loss: 1.0625, Validation Accuracy:54.78 %\n",
            "Epoch [41/200], Train Loss: 1.0565, Validation Accuracy:55.14 %\n",
            "Epoch [42/200], Train Loss: 1.0495, Validation Accuracy:54.9 %\n",
            "Epoch [43/200], Train Loss: 1.0420, Validation Accuracy:54.6 %\n",
            "Epoch [44/200], Train Loss: 1.0363, Validation Accuracy:55.16 %\n",
            "Epoch [45/200], Train Loss: 1.0300, Validation Accuracy:54.86 %\n",
            "Epoch [46/200], Train Loss: 1.0228, Validation Accuracy:55.12 %\n",
            "Epoch [47/200], Train Loss: 1.0172, Validation Accuracy:55.28 %\n",
            "Epoch [48/200], Train Loss: 1.0102, Validation Accuracy:55.48 %\n",
            "Epoch [49/200], Train Loss: 1.0036, Validation Accuracy:55.44 %\n",
            "Epoch [50/200], Train Loss: 0.9979, Validation Accuracy:55.7 %\n",
            "Epoch [51/200], Train Loss: 0.9927, Validation Accuracy:55.56 %\n",
            "Epoch [52/200], Train Loss: 0.9865, Validation Accuracy:55.48 %\n",
            "Epoch [53/200], Train Loss: 0.9806, Validation Accuracy:55.54 %\n",
            "Epoch [54/200], Train Loss: 0.9749, Validation Accuracy:55.36 %\n",
            "Epoch [55/200], Train Loss: 0.9675, Validation Accuracy:55.06 %\n",
            "Epoch [56/200], Train Loss: 0.9633, Validation Accuracy:55.58 %\n",
            "Epoch [57/200], Train Loss: 0.9574, Validation Accuracy:55.88 %\n",
            "Epoch [58/200], Train Loss: 0.9517, Validation Accuracy:55.68 %\n",
            "Epoch [59/200], Train Loss: 0.9461, Validation Accuracy:56.18 %\n",
            "Epoch [60/200], Train Loss: 0.9410, Validation Accuracy:55.82 %\n",
            "Epoch [61/200], Train Loss: 0.9349, Validation Accuracy:55.54 %\n",
            "Epoch [62/200], Train Loss: 0.9298, Validation Accuracy:55.84 %\n",
            "Epoch [63/200], Train Loss: 0.9250, Validation Accuracy:56.58 %\n",
            "Epoch [64/200], Train Loss: 0.9196, Validation Accuracy:55.66 %\n",
            "Epoch [65/200], Train Loss: 0.9152, Validation Accuracy:56.54 %\n",
            "Epoch [66/200], Train Loss: 0.9096, Validation Accuracy:55.88 %\n",
            "Epoch [67/200], Train Loss: 0.9041, Validation Accuracy:56.28 %\n",
            "Epoch [68/200], Train Loss: 0.8993, Validation Accuracy:56.22 %\n",
            "Epoch [69/200], Train Loss: 0.8935, Validation Accuracy:56.2 %\n",
            "Epoch [70/200], Train Loss: 0.8894, Validation Accuracy:56.28 %\n",
            "Epoch [71/200], Train Loss: 0.8839, Validation Accuracy:56.1 %\n",
            "Epoch [72/200], Train Loss: 0.8789, Validation Accuracy:56.14 %\n",
            "Epoch [73/200], Train Loss: 0.8749, Validation Accuracy:56.34 %\n",
            "Epoch [74/200], Train Loss: 0.8692, Validation Accuracy:55.86 %\n",
            "Epoch [75/200], Train Loss: 0.8645, Validation Accuracy:56.56 %\n",
            "Epoch [76/200], Train Loss: 0.8602, Validation Accuracy:56.5 %\n",
            "Epoch [77/200], Train Loss: 0.8551, Validation Accuracy:56.54 %\n",
            "Epoch [78/200], Train Loss: 0.8501, Validation Accuracy:56.24 %\n",
            "Epoch [79/200], Train Loss: 0.8451, Validation Accuracy:55.96 %\n",
            "Epoch [80/200], Train Loss: 0.8412, Validation Accuracy:56.62 %\n",
            "Epoch [81/200], Train Loss: 0.8369, Validation Accuracy:56.34 %\n",
            "Epoch [82/200], Train Loss: 0.8313, Validation Accuracy:56.4 %\n",
            "Epoch [83/200], Train Loss: 0.8261, Validation Accuracy:56.54 %\n",
            "Epoch [84/200], Train Loss: 0.8223, Validation Accuracy:56.6 %\n",
            "Epoch [85/200], Train Loss: 0.8177, Validation Accuracy:55.82 %\n",
            "Epoch [86/200], Train Loss: 0.8136, Validation Accuracy:56.72 %\n",
            "Epoch [87/200], Train Loss: 0.8089, Validation Accuracy:56.42 %\n",
            "Epoch [88/200], Train Loss: 0.8048, Validation Accuracy:56.24 %\n",
            "Epoch [89/200], Train Loss: 0.8009, Validation Accuracy:56.46 %\n",
            "Epoch [90/200], Train Loss: 0.7959, Validation Accuracy:56.4 %\n",
            "Epoch [91/200], Train Loss: 0.7916, Validation Accuracy:56.2 %\n",
            "Epoch [92/200], Train Loss: 0.7861, Validation Accuracy:55.8 %\n",
            "Epoch [93/200], Train Loss: 0.7833, Validation Accuracy:56.04 %\n",
            "Epoch [94/200], Train Loss: 0.7787, Validation Accuracy:56.04 %\n",
            "Epoch [95/200], Train Loss: 0.7740, Validation Accuracy:55.62 %\n",
            "Epoch [96/200], Train Loss: 0.7690, Validation Accuracy:55.7 %\n",
            "Epoch [97/200], Train Loss: 0.7664, Validation Accuracy:55.62 %\n",
            "Epoch [98/200], Train Loss: 0.7605, Validation Accuracy:56.36 %\n",
            "Epoch [99/200], Train Loss: 0.7563, Validation Accuracy:56.08 %\n",
            "Epoch [100/200], Train Loss: 0.7520, Validation Accuracy:55.54 %\n",
            "Epoch [101/200], Train Loss: 0.7483, Validation Accuracy:55.66 %\n",
            "Epoch [102/200], Train Loss: 0.7435, Validation Accuracy:56.08 %\n",
            "Epoch [103/200], Train Loss: 0.7401, Validation Accuracy:55.1 %\n",
            "Epoch [104/200], Train Loss: 0.7366, Validation Accuracy:55.76 %\n",
            "Epoch [105/200], Train Loss: 0.7309, Validation Accuracy:55.48 %\n",
            "Epoch [106/200], Train Loss: 0.7273, Validation Accuracy:56.08 %\n",
            "Epoch [107/200], Train Loss: 0.7233, Validation Accuracy:56.2 %\n",
            "Epoch [108/200], Train Loss: 0.7182, Validation Accuracy:56.14 %\n",
            "Epoch [109/200], Train Loss: 0.7152, Validation Accuracy:55.8 %\n",
            "Epoch [110/200], Train Loss: 0.7100, Validation Accuracy:55.36 %\n",
            "Epoch [111/200], Train Loss: 0.7067, Validation Accuracy:55.78 %\n"
          ]
        },
        {
          "output_type": "error",
          "ename": "KeyboardInterrupt",
          "evalue": "ignored",
          "traceback": [
            "\u001b[0;31m---------------------------------------------------------------------------\u001b[0m",
            "\u001b[0;31mKeyboardInterrupt\u001b[0m                         Traceback (most recent call last)",
            "\u001b[0;32m<ipython-input-9-43ee3b97da5a>\u001b[0m in \u001b[0;36m<module>\u001b[0;34m()\u001b[0m\n\u001b[1;32m     13\u001b[0m \u001b[0;32mfor\u001b[0m \u001b[0mepoch\u001b[0m \u001b[0;32min\u001b[0m \u001b[0mrange\u001b[0m\u001b[0;34m(\u001b[0m\u001b[0mepoches\u001b[0m\u001b[0;34m)\u001b[0m\u001b[0;34m:\u001b[0m\u001b[0;34m\u001b[0m\u001b[0;34m\u001b[0m\u001b[0m\n\u001b[1;32m     14\u001b[0m     \u001b[0mtotal_train_loss\u001b[0m \u001b[0;34m=\u001b[0m \u001b[0;36m0\u001b[0m\u001b[0;34m\u001b[0m\u001b[0;34m\u001b[0m\u001b[0m\n\u001b[0;32m---> 15\u001b[0;31m     \u001b[0;32mfor\u001b[0m \u001b[0mi\u001b[0m\u001b[0;34m,\u001b[0m \u001b[0;34m(\u001b[0m\u001b[0mimages\u001b[0m\u001b[0;34m,\u001b[0m \u001b[0mlabels\u001b[0m\u001b[0;34m)\u001b[0m \u001b[0;32min\u001b[0m \u001b[0menumerate\u001b[0m\u001b[0;34m(\u001b[0m\u001b[0mtrain_loader\u001b[0m\u001b[0;34m)\u001b[0m\u001b[0;34m:\u001b[0m\u001b[0;34m\u001b[0m\u001b[0;34m\u001b[0m\u001b[0m\n\u001b[0m\u001b[1;32m     16\u001b[0m         \u001b[0mimages\u001b[0m \u001b[0;34m=\u001b[0m \u001b[0mimages\u001b[0m\u001b[0;34m.\u001b[0m\u001b[0mto\u001b[0m\u001b[0;34m(\u001b[0m\u001b[0mdevice\u001b[0m\u001b[0;34m)\u001b[0m\u001b[0;34m\u001b[0m\u001b[0;34m\u001b[0m\u001b[0m\n\u001b[1;32m     17\u001b[0m         \u001b[0mlabels\u001b[0m \u001b[0;34m=\u001b[0m \u001b[0mlabels\u001b[0m\u001b[0;34m.\u001b[0m\u001b[0mto\u001b[0m\u001b[0;34m(\u001b[0m\u001b[0mdevice\u001b[0m\u001b[0;34m)\u001b[0m\u001b[0;34m\u001b[0m\u001b[0;34m\u001b[0m\u001b[0m\n",
            "\u001b[0;32m/usr/local/lib/python3.7/dist-packages/torch/utils/data/dataloader.py\u001b[0m in \u001b[0;36m__next__\u001b[0;34m(self)\u001b[0m\n\u001b[1;32m    519\u001b[0m             \u001b[0;32mif\u001b[0m \u001b[0mself\u001b[0m\u001b[0;34m.\u001b[0m\u001b[0m_sampler_iter\u001b[0m \u001b[0;32mis\u001b[0m \u001b[0;32mNone\u001b[0m\u001b[0;34m:\u001b[0m\u001b[0;34m\u001b[0m\u001b[0;34m\u001b[0m\u001b[0m\n\u001b[1;32m    520\u001b[0m                 \u001b[0mself\u001b[0m\u001b[0;34m.\u001b[0m\u001b[0m_reset\u001b[0m\u001b[0;34m(\u001b[0m\u001b[0;34m)\u001b[0m\u001b[0;34m\u001b[0m\u001b[0;34m\u001b[0m\u001b[0m\n\u001b[0;32m--> 521\u001b[0;31m             \u001b[0mdata\u001b[0m \u001b[0;34m=\u001b[0m \u001b[0mself\u001b[0m\u001b[0;34m.\u001b[0m\u001b[0m_next_data\u001b[0m\u001b[0;34m(\u001b[0m\u001b[0;34m)\u001b[0m\u001b[0;34m\u001b[0m\u001b[0;34m\u001b[0m\u001b[0m\n\u001b[0m\u001b[1;32m    522\u001b[0m             \u001b[0mself\u001b[0m\u001b[0;34m.\u001b[0m\u001b[0m_num_yielded\u001b[0m \u001b[0;34m+=\u001b[0m \u001b[0;36m1\u001b[0m\u001b[0;34m\u001b[0m\u001b[0;34m\u001b[0m\u001b[0m\n\u001b[1;32m    523\u001b[0m             \u001b[0;32mif\u001b[0m \u001b[0mself\u001b[0m\u001b[0;34m.\u001b[0m\u001b[0m_dataset_kind\u001b[0m \u001b[0;34m==\u001b[0m \u001b[0m_DatasetKind\u001b[0m\u001b[0;34m.\u001b[0m\u001b[0mIterable\u001b[0m \u001b[0;32mand\u001b[0m\u001b[0;31m \u001b[0m\u001b[0;31m\\\u001b[0m\u001b[0;34m\u001b[0m\u001b[0;34m\u001b[0m\u001b[0m\n",
            "\u001b[0;32m/usr/local/lib/python3.7/dist-packages/torch/utils/data/dataloader.py\u001b[0m in \u001b[0;36m_next_data\u001b[0;34m(self)\u001b[0m\n\u001b[1;32m   1184\u001b[0m \u001b[0;34m\u001b[0m\u001b[0m\n\u001b[1;32m   1185\u001b[0m             \u001b[0;32massert\u001b[0m \u001b[0;32mnot\u001b[0m \u001b[0mself\u001b[0m\u001b[0;34m.\u001b[0m\u001b[0m_shutdown\u001b[0m \u001b[0;32mand\u001b[0m \u001b[0mself\u001b[0m\u001b[0;34m.\u001b[0m\u001b[0m_tasks_outstanding\u001b[0m \u001b[0;34m>\u001b[0m \u001b[0;36m0\u001b[0m\u001b[0;34m\u001b[0m\u001b[0;34m\u001b[0m\u001b[0m\n\u001b[0;32m-> 1186\u001b[0;31m             \u001b[0midx\u001b[0m\u001b[0;34m,\u001b[0m \u001b[0mdata\u001b[0m \u001b[0;34m=\u001b[0m \u001b[0mself\u001b[0m\u001b[0;34m.\u001b[0m\u001b[0m_get_data\u001b[0m\u001b[0;34m(\u001b[0m\u001b[0;34m)\u001b[0m\u001b[0;34m\u001b[0m\u001b[0;34m\u001b[0m\u001b[0m\n\u001b[0m\u001b[1;32m   1187\u001b[0m             \u001b[0mself\u001b[0m\u001b[0;34m.\u001b[0m\u001b[0m_tasks_outstanding\u001b[0m \u001b[0;34m-=\u001b[0m \u001b[0;36m1\u001b[0m\u001b[0;34m\u001b[0m\u001b[0;34m\u001b[0m\u001b[0m\n\u001b[1;32m   1188\u001b[0m             \u001b[0;32mif\u001b[0m \u001b[0mself\u001b[0m\u001b[0;34m.\u001b[0m\u001b[0m_dataset_kind\u001b[0m \u001b[0;34m==\u001b[0m \u001b[0m_DatasetKind\u001b[0m\u001b[0;34m.\u001b[0m\u001b[0mIterable\u001b[0m\u001b[0;34m:\u001b[0m\u001b[0;34m\u001b[0m\u001b[0;34m\u001b[0m\u001b[0m\n",
            "\u001b[0;32m/usr/local/lib/python3.7/dist-packages/torch/utils/data/dataloader.py\u001b[0m in \u001b[0;36m_get_data\u001b[0;34m(self)\u001b[0m\n\u001b[1;32m   1150\u001b[0m         \u001b[0;32melse\u001b[0m\u001b[0;34m:\u001b[0m\u001b[0;34m\u001b[0m\u001b[0;34m\u001b[0m\u001b[0m\n\u001b[1;32m   1151\u001b[0m             \u001b[0;32mwhile\u001b[0m \u001b[0;32mTrue\u001b[0m\u001b[0;34m:\u001b[0m\u001b[0;34m\u001b[0m\u001b[0;34m\u001b[0m\u001b[0m\n\u001b[0;32m-> 1152\u001b[0;31m                 \u001b[0msuccess\u001b[0m\u001b[0;34m,\u001b[0m \u001b[0mdata\u001b[0m \u001b[0;34m=\u001b[0m \u001b[0mself\u001b[0m\u001b[0;34m.\u001b[0m\u001b[0m_try_get_data\u001b[0m\u001b[0;34m(\u001b[0m\u001b[0;34m)\u001b[0m\u001b[0;34m\u001b[0m\u001b[0;34m\u001b[0m\u001b[0m\n\u001b[0m\u001b[1;32m   1153\u001b[0m                 \u001b[0;32mif\u001b[0m \u001b[0msuccess\u001b[0m\u001b[0;34m:\u001b[0m\u001b[0;34m\u001b[0m\u001b[0;34m\u001b[0m\u001b[0m\n\u001b[1;32m   1154\u001b[0m                     \u001b[0;32mreturn\u001b[0m \u001b[0mdata\u001b[0m\u001b[0;34m\u001b[0m\u001b[0;34m\u001b[0m\u001b[0m\n",
            "\u001b[0;32m/usr/local/lib/python3.7/dist-packages/torch/utils/data/dataloader.py\u001b[0m in \u001b[0;36m_try_get_data\u001b[0;34m(self, timeout)\u001b[0m\n\u001b[1;32m    988\u001b[0m         \u001b[0;31m#   (bool: whether successfully get data, any: data if successful else None)\u001b[0m\u001b[0;34m\u001b[0m\u001b[0;34m\u001b[0m\u001b[0;34m\u001b[0m\u001b[0m\n\u001b[1;32m    989\u001b[0m         \u001b[0;32mtry\u001b[0m\u001b[0;34m:\u001b[0m\u001b[0;34m\u001b[0m\u001b[0;34m\u001b[0m\u001b[0m\n\u001b[0;32m--> 990\u001b[0;31m             \u001b[0mdata\u001b[0m \u001b[0;34m=\u001b[0m \u001b[0mself\u001b[0m\u001b[0;34m.\u001b[0m\u001b[0m_data_queue\u001b[0m\u001b[0;34m.\u001b[0m\u001b[0mget\u001b[0m\u001b[0;34m(\u001b[0m\u001b[0mtimeout\u001b[0m\u001b[0;34m=\u001b[0m\u001b[0mtimeout\u001b[0m\u001b[0;34m)\u001b[0m\u001b[0;34m\u001b[0m\u001b[0;34m\u001b[0m\u001b[0m\n\u001b[0m\u001b[1;32m    991\u001b[0m             \u001b[0;32mreturn\u001b[0m \u001b[0;34m(\u001b[0m\u001b[0;32mTrue\u001b[0m\u001b[0;34m,\u001b[0m \u001b[0mdata\u001b[0m\u001b[0;34m)\u001b[0m\u001b[0;34m\u001b[0m\u001b[0;34m\u001b[0m\u001b[0m\n\u001b[1;32m    992\u001b[0m         \u001b[0;32mexcept\u001b[0m \u001b[0mException\u001b[0m \u001b[0;32mas\u001b[0m \u001b[0me\u001b[0m\u001b[0;34m:\u001b[0m\u001b[0;34m\u001b[0m\u001b[0;34m\u001b[0m\u001b[0m\n",
            "\u001b[0;32m/usr/lib/python3.7/multiprocessing/queues.py\u001b[0m in \u001b[0;36mget\u001b[0;34m(self, block, timeout)\u001b[0m\n\u001b[1;32m    111\u001b[0m                 \u001b[0mself\u001b[0m\u001b[0;34m.\u001b[0m\u001b[0m_rlock\u001b[0m\u001b[0;34m.\u001b[0m\u001b[0mrelease\u001b[0m\u001b[0;34m(\u001b[0m\u001b[0;34m)\u001b[0m\u001b[0;34m\u001b[0m\u001b[0;34m\u001b[0m\u001b[0m\n\u001b[1;32m    112\u001b[0m         \u001b[0;31m# unserialize the data after having released the lock\u001b[0m\u001b[0;34m\u001b[0m\u001b[0;34m\u001b[0m\u001b[0;34m\u001b[0m\u001b[0m\n\u001b[0;32m--> 113\u001b[0;31m         \u001b[0;32mreturn\u001b[0m \u001b[0m_ForkingPickler\u001b[0m\u001b[0;34m.\u001b[0m\u001b[0mloads\u001b[0m\u001b[0;34m(\u001b[0m\u001b[0mres\u001b[0m\u001b[0;34m)\u001b[0m\u001b[0;34m\u001b[0m\u001b[0;34m\u001b[0m\u001b[0m\n\u001b[0m\u001b[1;32m    114\u001b[0m \u001b[0;34m\u001b[0m\u001b[0m\n\u001b[1;32m    115\u001b[0m     \u001b[0;32mdef\u001b[0m \u001b[0mqsize\u001b[0m\u001b[0;34m(\u001b[0m\u001b[0mself\u001b[0m\u001b[0;34m)\u001b[0m\u001b[0;34m:\u001b[0m\u001b[0;34m\u001b[0m\u001b[0;34m\u001b[0m\u001b[0m\n",
            "\u001b[0;32m/usr/local/lib/python3.7/dist-packages/torch/multiprocessing/reductions.py\u001b[0m in \u001b[0;36mrebuild_storage_fd\u001b[0;34m(cls, df, size)\u001b[0m\n\u001b[1;32m    287\u001b[0m \u001b[0;34m\u001b[0m\u001b[0m\n\u001b[1;32m    288\u001b[0m \u001b[0;32mdef\u001b[0m \u001b[0mrebuild_storage_fd\u001b[0m\u001b[0;34m(\u001b[0m\u001b[0mcls\u001b[0m\u001b[0;34m,\u001b[0m \u001b[0mdf\u001b[0m\u001b[0;34m,\u001b[0m \u001b[0msize\u001b[0m\u001b[0;34m)\u001b[0m\u001b[0;34m:\u001b[0m\u001b[0;34m\u001b[0m\u001b[0;34m\u001b[0m\u001b[0m\n\u001b[0;32m--> 289\u001b[0;31m     \u001b[0mfd\u001b[0m \u001b[0;34m=\u001b[0m \u001b[0mdf\u001b[0m\u001b[0;34m.\u001b[0m\u001b[0mdetach\u001b[0m\u001b[0;34m(\u001b[0m\u001b[0;34m)\u001b[0m\u001b[0;34m\u001b[0m\u001b[0;34m\u001b[0m\u001b[0m\n\u001b[0m\u001b[1;32m    290\u001b[0m     \u001b[0;32mtry\u001b[0m\u001b[0;34m:\u001b[0m\u001b[0;34m\u001b[0m\u001b[0;34m\u001b[0m\u001b[0m\n\u001b[1;32m    291\u001b[0m         \u001b[0mstorage\u001b[0m \u001b[0;34m=\u001b[0m \u001b[0mstorage_from_cache\u001b[0m\u001b[0;34m(\u001b[0m\u001b[0mcls\u001b[0m\u001b[0;34m,\u001b[0m \u001b[0mfd_id\u001b[0m\u001b[0;34m(\u001b[0m\u001b[0mfd\u001b[0m\u001b[0;34m)\u001b[0m\u001b[0;34m)\u001b[0m\u001b[0;34m\u001b[0m\u001b[0;34m\u001b[0m\u001b[0m\n",
            "\u001b[0;32m/usr/lib/python3.7/multiprocessing/resource_sharer.py\u001b[0m in \u001b[0;36mdetach\u001b[0;34m(self)\u001b[0m\n\u001b[1;32m     55\u001b[0m         \u001b[0;32mdef\u001b[0m \u001b[0mdetach\u001b[0m\u001b[0;34m(\u001b[0m\u001b[0mself\u001b[0m\u001b[0;34m)\u001b[0m\u001b[0;34m:\u001b[0m\u001b[0;34m\u001b[0m\u001b[0;34m\u001b[0m\u001b[0m\n\u001b[1;32m     56\u001b[0m             \u001b[0;34m'''Get the fd.  This should only be called once.'''\u001b[0m\u001b[0;34m\u001b[0m\u001b[0;34m\u001b[0m\u001b[0m\n\u001b[0;32m---> 57\u001b[0;31m             \u001b[0;32mwith\u001b[0m \u001b[0m_resource_sharer\u001b[0m\u001b[0;34m.\u001b[0m\u001b[0mget_connection\u001b[0m\u001b[0;34m(\u001b[0m\u001b[0mself\u001b[0m\u001b[0;34m.\u001b[0m\u001b[0m_id\u001b[0m\u001b[0;34m)\u001b[0m \u001b[0;32mas\u001b[0m \u001b[0mconn\u001b[0m\u001b[0;34m:\u001b[0m\u001b[0;34m\u001b[0m\u001b[0;34m\u001b[0m\u001b[0m\n\u001b[0m\u001b[1;32m     58\u001b[0m                 \u001b[0;32mreturn\u001b[0m \u001b[0mreduction\u001b[0m\u001b[0;34m.\u001b[0m\u001b[0mrecv_handle\u001b[0m\u001b[0;34m(\u001b[0m\u001b[0mconn\u001b[0m\u001b[0;34m)\u001b[0m\u001b[0;34m\u001b[0m\u001b[0;34m\u001b[0m\u001b[0m\n\u001b[1;32m     59\u001b[0m \u001b[0;34m\u001b[0m\u001b[0m\n",
            "\u001b[0;32m/usr/lib/python3.7/multiprocessing/resource_sharer.py\u001b[0m in \u001b[0;36mget_connection\u001b[0;34m(ident)\u001b[0m\n\u001b[1;32m     86\u001b[0m         \u001b[0maddress\u001b[0m\u001b[0;34m,\u001b[0m \u001b[0mkey\u001b[0m \u001b[0;34m=\u001b[0m \u001b[0mident\u001b[0m\u001b[0;34m\u001b[0m\u001b[0;34m\u001b[0m\u001b[0m\n\u001b[1;32m     87\u001b[0m         \u001b[0mc\u001b[0m \u001b[0;34m=\u001b[0m \u001b[0mClient\u001b[0m\u001b[0;34m(\u001b[0m\u001b[0maddress\u001b[0m\u001b[0;34m,\u001b[0m \u001b[0mauthkey\u001b[0m\u001b[0;34m=\u001b[0m\u001b[0mprocess\u001b[0m\u001b[0;34m.\u001b[0m\u001b[0mcurrent_process\u001b[0m\u001b[0;34m(\u001b[0m\u001b[0;34m)\u001b[0m\u001b[0;34m.\u001b[0m\u001b[0mauthkey\u001b[0m\u001b[0;34m)\u001b[0m\u001b[0;34m\u001b[0m\u001b[0;34m\u001b[0m\u001b[0m\n\u001b[0;32m---> 88\u001b[0;31m         \u001b[0mc\u001b[0m\u001b[0;34m.\u001b[0m\u001b[0msend\u001b[0m\u001b[0;34m(\u001b[0m\u001b[0;34m(\u001b[0m\u001b[0mkey\u001b[0m\u001b[0;34m,\u001b[0m \u001b[0mos\u001b[0m\u001b[0;34m.\u001b[0m\u001b[0mgetpid\u001b[0m\u001b[0;34m(\u001b[0m\u001b[0;34m)\u001b[0m\u001b[0;34m)\u001b[0m\u001b[0;34m)\u001b[0m\u001b[0;34m\u001b[0m\u001b[0;34m\u001b[0m\u001b[0m\n\u001b[0m\u001b[1;32m     89\u001b[0m         \u001b[0;32mreturn\u001b[0m \u001b[0mc\u001b[0m\u001b[0;34m\u001b[0m\u001b[0;34m\u001b[0m\u001b[0m\n\u001b[1;32m     90\u001b[0m \u001b[0;34m\u001b[0m\u001b[0m\n",
            "\u001b[0;32m/usr/lib/python3.7/multiprocessing/connection.py\u001b[0m in \u001b[0;36msend\u001b[0;34m(self, obj)\u001b[0m\n\u001b[1;32m    204\u001b[0m         \u001b[0mself\u001b[0m\u001b[0;34m.\u001b[0m\u001b[0m_check_closed\u001b[0m\u001b[0;34m(\u001b[0m\u001b[0;34m)\u001b[0m\u001b[0;34m\u001b[0m\u001b[0;34m\u001b[0m\u001b[0m\n\u001b[1;32m    205\u001b[0m         \u001b[0mself\u001b[0m\u001b[0;34m.\u001b[0m\u001b[0m_check_writable\u001b[0m\u001b[0;34m(\u001b[0m\u001b[0;34m)\u001b[0m\u001b[0;34m\u001b[0m\u001b[0;34m\u001b[0m\u001b[0m\n\u001b[0;32m--> 206\u001b[0;31m         \u001b[0mself\u001b[0m\u001b[0;34m.\u001b[0m\u001b[0m_send_bytes\u001b[0m\u001b[0;34m(\u001b[0m\u001b[0m_ForkingPickler\u001b[0m\u001b[0;34m.\u001b[0m\u001b[0mdumps\u001b[0m\u001b[0;34m(\u001b[0m\u001b[0mobj\u001b[0m\u001b[0;34m)\u001b[0m\u001b[0;34m)\u001b[0m\u001b[0;34m\u001b[0m\u001b[0;34m\u001b[0m\u001b[0m\n\u001b[0m\u001b[1;32m    207\u001b[0m \u001b[0;34m\u001b[0m\u001b[0m\n\u001b[1;32m    208\u001b[0m     \u001b[0;32mdef\u001b[0m \u001b[0mrecv_bytes\u001b[0m\u001b[0;34m(\u001b[0m\u001b[0mself\u001b[0m\u001b[0;34m,\u001b[0m \u001b[0mmaxlength\u001b[0m\u001b[0;34m=\u001b[0m\u001b[0;32mNone\u001b[0m\u001b[0;34m)\u001b[0m\u001b[0;34m:\u001b[0m\u001b[0;34m\u001b[0m\u001b[0;34m\u001b[0m\u001b[0m\n",
            "\u001b[0;32m/usr/lib/python3.7/multiprocessing/connection.py\u001b[0m in \u001b[0;36m_send_bytes\u001b[0;34m(self, buf)\u001b[0m\n\u001b[1;32m    402\u001b[0m             \u001b[0;31m# Also note we want to avoid sending a 0-length buffer separately,\u001b[0m\u001b[0;34m\u001b[0m\u001b[0;34m\u001b[0m\u001b[0;34m\u001b[0m\u001b[0m\n\u001b[1;32m    403\u001b[0m             \u001b[0;31m# to avoid \"broken pipe\" errors if the other end closed the pipe.\u001b[0m\u001b[0;34m\u001b[0m\u001b[0;34m\u001b[0m\u001b[0;34m\u001b[0m\u001b[0m\n\u001b[0;32m--> 404\u001b[0;31m             \u001b[0mself\u001b[0m\u001b[0;34m.\u001b[0m\u001b[0m_send\u001b[0m\u001b[0;34m(\u001b[0m\u001b[0mheader\u001b[0m \u001b[0;34m+\u001b[0m \u001b[0mbuf\u001b[0m\u001b[0;34m)\u001b[0m\u001b[0;34m\u001b[0m\u001b[0;34m\u001b[0m\u001b[0m\n\u001b[0m\u001b[1;32m    405\u001b[0m \u001b[0;34m\u001b[0m\u001b[0m\n\u001b[1;32m    406\u001b[0m     \u001b[0;32mdef\u001b[0m \u001b[0m_recv_bytes\u001b[0m\u001b[0;34m(\u001b[0m\u001b[0mself\u001b[0m\u001b[0;34m,\u001b[0m \u001b[0mmaxsize\u001b[0m\u001b[0;34m=\u001b[0m\u001b[0;32mNone\u001b[0m\u001b[0;34m)\u001b[0m\u001b[0;34m:\u001b[0m\u001b[0;34m\u001b[0m\u001b[0;34m\u001b[0m\u001b[0m\n",
            "\u001b[0;32m/usr/lib/python3.7/multiprocessing/connection.py\u001b[0m in \u001b[0;36m_send\u001b[0;34m(self, buf, write)\u001b[0m\n\u001b[1;32m    366\u001b[0m         \u001b[0mremaining\u001b[0m \u001b[0;34m=\u001b[0m \u001b[0mlen\u001b[0m\u001b[0;34m(\u001b[0m\u001b[0mbuf\u001b[0m\u001b[0;34m)\u001b[0m\u001b[0;34m\u001b[0m\u001b[0;34m\u001b[0m\u001b[0m\n\u001b[1;32m    367\u001b[0m         \u001b[0;32mwhile\u001b[0m \u001b[0;32mTrue\u001b[0m\u001b[0;34m:\u001b[0m\u001b[0;34m\u001b[0m\u001b[0;34m\u001b[0m\u001b[0m\n\u001b[0;32m--> 368\u001b[0;31m             \u001b[0mn\u001b[0m \u001b[0;34m=\u001b[0m \u001b[0mwrite\u001b[0m\u001b[0;34m(\u001b[0m\u001b[0mself\u001b[0m\u001b[0;34m.\u001b[0m\u001b[0m_handle\u001b[0m\u001b[0;34m,\u001b[0m \u001b[0mbuf\u001b[0m\u001b[0;34m)\u001b[0m\u001b[0;34m\u001b[0m\u001b[0;34m\u001b[0m\u001b[0m\n\u001b[0m\u001b[1;32m    369\u001b[0m             \u001b[0mremaining\u001b[0m \u001b[0;34m-=\u001b[0m \u001b[0mn\u001b[0m\u001b[0;34m\u001b[0m\u001b[0;34m\u001b[0m\u001b[0m\n\u001b[1;32m    370\u001b[0m             \u001b[0;32mif\u001b[0m \u001b[0mremaining\u001b[0m \u001b[0;34m==\u001b[0m \u001b[0;36m0\u001b[0m\u001b[0;34m:\u001b[0m\u001b[0;34m\u001b[0m\u001b[0;34m\u001b[0m\u001b[0m\n",
            "\u001b[0;31mKeyboardInterrupt\u001b[0m: "
          ]
        }
      ]
    },
    {
      "cell_type": "code",
      "metadata": {
        "colab": {
          "base_uri": "https://localhost:8080/"
        },
        "id": "CxTwtRq5CcvM",
        "outputId": "a790cc68-e9ac-4844-c5d6-6a41f49fb297"
      },
      "source": [
        "with torch.no_grad():\n",
        "    n_correct = 0\n",
        "    n_samples = 0\n",
        "    n_class_correct = [0 for i in range(10)]\n",
        "    n_class_samples = [0 for i in range(10)]\n",
        "    for images, labels in testloader:\n",
        "        images = images.to(device)\n",
        "        labels = labels.to(device)\n",
        "        outputs = model_3(images)\n",
        "        _, predicted = torch.max(outputs, 1)\n",
        "        for i in range(len(predicted)):\n",
        "          n_samples += 1\n",
        "          if predicted[i] == labels[i]:\n",
        "            n_correct += 1\n",
        "            n_class_correct[labels[i]] += 1\n",
        "          n_class_samples[labels[i]] += 1\n",
        "\n",
        "    acc = 100.0 * n_correct / n_samples\n",
        "    print(f'Total Accuracy: {acc} %')\n",
        "\n",
        "    for i in range(10):\n",
        "        acc = 100.0 * n_class_correct[i] / n_class_samples[i]\n",
        "        print(f'Accuracy of {classes[i]}: {acc} %')"
      ],
      "execution_count": null,
      "outputs": [
        {
          "output_type": "stream",
          "name": "stdout",
          "text": [
            "Total Accuracy: 56.16 %\n",
            "Accuracy of plane: 60.7 %\n",
            "Accuracy of car: 68.1 %\n",
            "Accuracy of bird: 46.0 %\n",
            "Accuracy of cat: 39.4 %\n",
            "Accuracy of deer: 46.6 %\n",
            "Accuracy of dog: 50.5 %\n",
            "Accuracy of frog: 63.2 %\n",
            "Accuracy of horse: 60.1 %\n",
            "Accuracy of ship: 67.6 %\n",
            "Accuracy of truck: 59.4 %\n"
          ]
        }
      ]
    },
    {
      "cell_type": "code",
      "metadata": {
        "colab": {
          "base_uri": "https://localhost:8080/",
          "height": 283
        },
        "id": "tNU1OrKXChvL",
        "outputId": "d6e741dc-a7cb-4bcd-c440-09127b6d3568"
      },
      "source": [
        "x = [i+1 for i in range(102)]\n",
        "plt.plot(x, train_losses, color = \"blue\", label = \"train loss\")\n",
        "# plt.plot(x, val_losses, color = \"red\", label = \"validation accuracy\")\n",
        "plt.xlabel(\"Epochs\")\n",
        "plt.ylabel(\"Negative Log Likelihood Loss\")\n",
        "plt.legend()\n",
        "plt.show()"
      ],
      "execution_count": null,
      "outputs": [
        {
          "output_type": "display_data",
          "data": {
            "image/png": "[encoded data removed]",
            "text/plain": [
              "<Figure size 432x288 with 1 Axes>"
            ]
          },
          "metadata": {
            "needs_background": "light"
          }
        }
      ]
    },
    {
      "cell_type": "code",
      "metadata": {
        "colab": {
          "base_uri": "https://localhost:8080/",
          "height": 279
        },
        "id": "BQZlyrbjCp0q",
        "outputId": "46c66ff2-d7ff-4391-aa0e-ac4186e6906d"
      },
      "source": [
        "x = [i+1 for i in range(102)]\n",
        "plt.plot(x, val_losses, color = \"red\", label = \"Validation accuracy\")\n",
        "# plt.plot(x, val_losses, color = \"red\", label = \"validation accuracy\")\n",
        "plt.xlabel(\"Epochs\")\n",
        "plt.ylabel(\"Negative Log Likelihood Loss\")\n",
        "plt.legend()\n",
        "plt.show()"
      ],
      "execution_count": null,
      "outputs": [
        {
          "output_type": "display_data",
          "data": {
            "image/png": "[encoded data removed]",
            "text/plain": [
              "<Figure size 432x288 with 1 Axes>"
            ]
          },
          "metadata": {
            "needs_background": "light"
          }
        }
      ]
    },
    {
      "cell_type": "code",
      "metadata": {
        "id": "YzDfKmQ8BexM"
      },
      "source": [
        "class ConvNet_2(nn.Module):\n",
        "  def __init__(self):\n",
        "    super(ConvNet_2, self).__init__()\n",
        "    self.conv_layers = nn.Sequential(\n",
        "      nn.Conv2d(3, 16, 3, 1, padding = 1),\n",
        "      nn.ReLU(),\n",
        "      nn.MaxPool2d(2, 2),\n",
        "      # nn.AvgPool2d(kernel_size=2),\n",
        "      nn.Conv2d(16, 32, 3, 1, padding = 1),\n",
        "      nn.ReLU(),\n",
        "      nn.MaxPool2d(2, 2),\n",
        "      nn.Conv2d(32, 64, 3, 1, padding = 1),\n",
        "      nn.ReLU(),\n",
        "      nn.MaxPool2d(2, 2),\n",
        "    )\n",
        "\n",
        "    self.FCL = nn.Sequential(\n",
        "      nn.Linear(4*4*64, 500),\n",
        "      nn.ReLU(),\n",
        "      nn.Dropout(0.5),\n",
        "      nn.Linear(500, 10),\n",
        "      nn.LogSoftmax(dim=1)\n",
        "    )\n",
        "\n",
        "\n",
        "  def forward(self, x):\n",
        "      x = self.conv_layers(x)\n",
        "      x = x.reshape(x.size(0), -1)\n",
        "      x = self.FCL(x)\n",
        "      return x"
      ],
      "execution_count": 7,
      "outputs": []
    },
    {
      "cell_type": "code",
      "metadata": {
        "colab": {
          "base_uri": "https://localhost:8080/",
          "height": 1000
        },
        "id": "QlMmQaZEDxp0",
        "outputId": "4917f0bf-4daf-40a0-ec8f-1e9438c47be3"
      },
      "source": [
        "#Adam can be looked at as a combination of RMSprop and Stochastic Gradient Descent with momentum. \n",
        "import torch.optim as optim\n",
        "epoches = 100\n",
        "model_5 = ConvNet_2().to(device)\n",
        "train_losses = []\n",
        "val_losses = []\n",
        "criterion = nn.NLLLoss(reduction='sum')\n",
        "optimizer = optim.Adam(model_5.parameters(), lr=0.0001)\n",
        "n_total_steps = len(train_loader)\n",
        "\n",
        "for epoch in range(epoches):\n",
        "    total_train_loss = 0\n",
        "    for i, (images, labels) in enumerate(train_loader):\n",
        "        images = images.to(device)\n",
        "        labels = labels.to(device)\n",
        "\n",
        "        # Forward pass\n",
        "        outputs = model_5(images)\n",
        "        loss = criterion(outputs, labels)\n",
        "        total_train_loss += loss.item()\n",
        "        # Backward and optimize\n",
        "        optimizer.zero_grad()\n",
        "        loss.backward()\n",
        "        optimizer.step()\n",
        "\n",
        "      \n",
        "    n_correct = 0\n",
        "    n_samples = 0\n",
        "    for images, labels in val_loader:\n",
        "      images_val = images.to(device)\n",
        "      labels_val = labels.to(device)\n",
        "      outputs_val = model_5(images_val)\n",
        "      _, val_predicted = torch.max(outputs_val, 1)\n",
        "      for i in range(len(val_predicted)):\n",
        "        n_samples += 1\n",
        "        if val_predicted[i] == labels[i]:\n",
        "          n_correct += 1\n",
        "    acc = 100.0 * n_correct / n_samples\n",
        "    print (f'Epoch [{epoch+1}/{epoches}], Train Loss: {total_train_loss/train_size:.4f}, Validation Accuracy:{acc} %')\n",
        "    train_losses.append(total_train_loss/train_size)\n",
        "    val_losses.append(acc)"
      ],
      "execution_count": 8,
      "outputs": [
        {
          "output_type": "stream",
          "name": "stderr",
          "text": [
            "/usr/local/lib/python3.7/dist-packages/torch/nn/functional.py:718: UserWarning: Named tensors and all their associated APIs are an experimental feature and subject to change. Please do not use them for anything important until they are released as stable. (Triggered internally at  /pytorch/c10/core/TensorImpl.h:1156.)\n",
            "  return torch.max_pool2d(input, kernel_size, stride, padding, dilation, ceil_mode)\n"
          ]
        },
        {
          "output_type": "stream",
          "name": "stdout",
          "text": [
            "Epoch [1/100], Train Loss: 1.7220, Validation Accuracy:45.08 %\n",
            "Epoch [2/100], Train Loss: 1.4159, Validation Accuracy:50.16 %\n",
            "Epoch [3/100], Train Loss: 1.2845, Validation Accuracy:54.06 %\n",
            "Epoch [4/100], Train Loss: 1.1835, Validation Accuracy:57.38 %\n",
            "Epoch [5/100], Train Loss: 1.1030, Validation Accuracy:59.88 %\n",
            "Epoch [6/100], Train Loss: 1.0305, Validation Accuracy:61.94 %\n",
            "Epoch [7/100], Train Loss: 0.9706, Validation Accuracy:63.06 %\n",
            "Epoch [8/100], Train Loss: 0.9185, Validation Accuracy:64.14 %\n",
            "Epoch [9/100], Train Loss: 0.8710, Validation Accuracy:64.84 %\n",
            "Epoch [10/100], Train Loss: 0.8266, Validation Accuracy:66.1 %\n",
            "Epoch [11/100], Train Loss: 0.7872, Validation Accuracy:67.68 %\n",
            "Epoch [12/100], Train Loss: 0.7497, Validation Accuracy:68.36 %\n",
            "Epoch [13/100], Train Loss: 0.7168, Validation Accuracy:67.92 %\n",
            "Epoch [14/100], Train Loss: 0.6830, Validation Accuracy:68.4 %\n",
            "Epoch [15/100], Train Loss: 0.6538, Validation Accuracy:69.92 %\n",
            "Epoch [16/100], Train Loss: 0.6230, Validation Accuracy:69.14 %\n",
            "Epoch [17/100], Train Loss: 0.5976, Validation Accuracy:69.64 %\n",
            "Epoch [18/100], Train Loss: 0.5725, Validation Accuracy:70.02 %\n",
            "Epoch [19/100], Train Loss: 0.5417, Validation Accuracy:69.86 %\n",
            "Epoch [20/100], Train Loss: 0.5254, Validation Accuracy:70.84 %\n",
            "Epoch [21/100], Train Loss: 0.5022, Validation Accuracy:70.66 %\n",
            "Epoch [22/100], Train Loss: 0.4753, Validation Accuracy:70.3 %\n",
            "Epoch [23/100], Train Loss: 0.4585, Validation Accuracy:70.46 %\n",
            "Epoch [24/100], Train Loss: 0.4350, Validation Accuracy:71.38 %\n",
            "Epoch [25/100], Train Loss: 0.4125, Validation Accuracy:71.0 %\n",
            "Epoch [26/100], Train Loss: 0.3949, Validation Accuracy:70.34 %\n",
            "Epoch [27/100], Train Loss: 0.3765, Validation Accuracy:71.44 %\n",
            "Epoch [28/100], Train Loss: 0.3564, Validation Accuracy:70.86 %\n",
            "Epoch [29/100], Train Loss: 0.3417, Validation Accuracy:70.08 %\n",
            "Epoch [30/100], Train Loss: 0.3280, Validation Accuracy:70.82 %\n",
            "Epoch [31/100], Train Loss: 0.3143, Validation Accuracy:70.58 %\n",
            "Epoch [32/100], Train Loss: 0.2977, Validation Accuracy:70.68 %\n",
            "Epoch [33/100], Train Loss: 0.2854, Validation Accuracy:71.06 %\n",
            "Epoch [34/100], Train Loss: 0.2747, Validation Accuracy:71.08 %\n",
            "Epoch [35/100], Train Loss: 0.2599, Validation Accuracy:70.56 %\n",
            "Epoch [36/100], Train Loss: 0.2502, Validation Accuracy:70.42 %\n",
            "Epoch [37/100], Train Loss: 0.2435, Validation Accuracy:71.24 %\n",
            "Epoch [38/100], Train Loss: 0.2277, Validation Accuracy:70.6 %\n",
            "Epoch [39/100], Train Loss: 0.2224, Validation Accuracy:71.52 %\n",
            "Epoch [40/100], Train Loss: 0.2079, Validation Accuracy:70.88 %\n",
            "Epoch [41/100], Train Loss: 0.2093, Validation Accuracy:70.76 %\n",
            "Epoch [42/100], Train Loss: 0.1920, Validation Accuracy:70.02 %\n",
            "Epoch [43/100], Train Loss: 0.1894, Validation Accuracy:70.42 %\n",
            "Epoch [44/100], Train Loss: 0.1809, Validation Accuracy:71.14 %\n",
            "Epoch [45/100], Train Loss: 0.1743, Validation Accuracy:69.38 %\n"
          ]
        },
        {
          "output_type": "error",
          "ename": "KeyboardInterrupt",
          "evalue": "ignored",
          "traceback": [
            "\u001b[0;31m---------------------------------------------------------------------------\u001b[0m",
            "\u001b[0;31mKeyboardInterrupt\u001b[0m                         Traceback (most recent call last)",
            "\u001b[0;32m<ipython-input-8-28620e816695>\u001b[0m in \u001b[0;36m<module>\u001b[0;34m()\u001b[0m\n\u001b[1;32m     22\u001b[0m         \u001b[0moptimizer\u001b[0m\u001b[0;34m.\u001b[0m\u001b[0mzero_grad\u001b[0m\u001b[0;34m(\u001b[0m\u001b[0;34m)\u001b[0m\u001b[0;34m\u001b[0m\u001b[0;34m\u001b[0m\u001b[0m\n\u001b[1;32m     23\u001b[0m         \u001b[0mloss\u001b[0m\u001b[0;34m.\u001b[0m\u001b[0mbackward\u001b[0m\u001b[0;34m(\u001b[0m\u001b[0;34m)\u001b[0m\u001b[0;34m\u001b[0m\u001b[0;34m\u001b[0m\u001b[0m\n\u001b[0;32m---> 24\u001b[0;31m         \u001b[0moptimizer\u001b[0m\u001b[0;34m.\u001b[0m\u001b[0mstep\u001b[0m\u001b[0;34m(\u001b[0m\u001b[0;34m)\u001b[0m\u001b[0;34m\u001b[0m\u001b[0;34m\u001b[0m\u001b[0m\n\u001b[0m\u001b[1;32m     25\u001b[0m \u001b[0;34m\u001b[0m\u001b[0m\n\u001b[1;32m     26\u001b[0m \u001b[0;34m\u001b[0m\u001b[0m\n",
            "\u001b[0;32m/usr/local/lib/python3.7/dist-packages/torch/optim/optimizer.py\u001b[0m in \u001b[0;36mwrapper\u001b[0;34m(*args, **kwargs)\u001b[0m\n\u001b[1;32m     86\u001b[0m                 \u001b[0mprofile_name\u001b[0m \u001b[0;34m=\u001b[0m \u001b[0;34m\"Optimizer.step#{}.step\"\u001b[0m\u001b[0;34m.\u001b[0m\u001b[0mformat\u001b[0m\u001b[0;34m(\u001b[0m\u001b[0mobj\u001b[0m\u001b[0;34m.\u001b[0m\u001b[0m__class__\u001b[0m\u001b[0;34m.\u001b[0m\u001b[0m__name__\u001b[0m\u001b[0;34m)\u001b[0m\u001b[0;34m\u001b[0m\u001b[0;34m\u001b[0m\u001b[0m\n\u001b[1;32m     87\u001b[0m                 \u001b[0;32mwith\u001b[0m \u001b[0mtorch\u001b[0m\u001b[0;34m.\u001b[0m\u001b[0mautograd\u001b[0m\u001b[0;34m.\u001b[0m\u001b[0mprofiler\u001b[0m\u001b[0;34m.\u001b[0m\u001b[0mrecord_function\u001b[0m\u001b[0;34m(\u001b[0m\u001b[0mprofile_name\u001b[0m\u001b[0;34m)\u001b[0m\u001b[0;34m:\u001b[0m\u001b[0;34m\u001b[0m\u001b[0;34m\u001b[0m\u001b[0m\n\u001b[0;32m---> 88\u001b[0;31m                     \u001b[0;32mreturn\u001b[0m \u001b[0mfunc\u001b[0m\u001b[0;34m(\u001b[0m\u001b[0;34m*\u001b[0m\u001b[0margs\u001b[0m\u001b[0;34m,\u001b[0m \u001b[0;34m**\u001b[0m\u001b[0mkwargs\u001b[0m\u001b[0;34m)\u001b[0m\u001b[0;34m\u001b[0m\u001b[0;34m\u001b[0m\u001b[0m\n\u001b[0m\u001b[1;32m     89\u001b[0m             \u001b[0;32mreturn\u001b[0m \u001b[0mwrapper\u001b[0m\u001b[0;34m\u001b[0m\u001b[0;34m\u001b[0m\u001b[0m\n\u001b[1;32m     90\u001b[0m \u001b[0;34m\u001b[0m\u001b[0m\n",
            "\u001b[0;32m/usr/local/lib/python3.7/dist-packages/torch/autograd/grad_mode.py\u001b[0m in \u001b[0;36mdecorate_context\u001b[0;34m(*args, **kwargs)\u001b[0m\n\u001b[1;32m     26\u001b[0m         \u001b[0;32mdef\u001b[0m \u001b[0mdecorate_context\u001b[0m\u001b[0;34m(\u001b[0m\u001b[0;34m*\u001b[0m\u001b[0margs\u001b[0m\u001b[0;34m,\u001b[0m \u001b[0;34m**\u001b[0m\u001b[0mkwargs\u001b[0m\u001b[0;34m)\u001b[0m\u001b[0;34m:\u001b[0m\u001b[0;34m\u001b[0m\u001b[0;34m\u001b[0m\u001b[0m\n\u001b[1;32m     27\u001b[0m             \u001b[0;32mwith\u001b[0m \u001b[0mself\u001b[0m\u001b[0;34m.\u001b[0m\u001b[0m__class__\u001b[0m\u001b[0;34m(\u001b[0m\u001b[0;34m)\u001b[0m\u001b[0;34m:\u001b[0m\u001b[0;34m\u001b[0m\u001b[0;34m\u001b[0m\u001b[0m\n\u001b[0;32m---> 28\u001b[0;31m                 \u001b[0;32mreturn\u001b[0m \u001b[0mfunc\u001b[0m\u001b[0;34m(\u001b[0m\u001b[0;34m*\u001b[0m\u001b[0margs\u001b[0m\u001b[0;34m,\u001b[0m \u001b[0;34m**\u001b[0m\u001b[0mkwargs\u001b[0m\u001b[0;34m)\u001b[0m\u001b[0;34m\u001b[0m\u001b[0;34m\u001b[0m\u001b[0m\n\u001b[0m\u001b[1;32m     29\u001b[0m         \u001b[0;32mreturn\u001b[0m \u001b[0mcast\u001b[0m\u001b[0;34m(\u001b[0m\u001b[0mF\u001b[0m\u001b[0;34m,\u001b[0m \u001b[0mdecorate_context\u001b[0m\u001b[0;34m)\u001b[0m\u001b[0;34m\u001b[0m\u001b[0;34m\u001b[0m\u001b[0m\n\u001b[1;32m     30\u001b[0m \u001b[0;34m\u001b[0m\u001b[0m\n",
            "\u001b[0;32m/usr/local/lib/python3.7/dist-packages/torch/optim/adam.py\u001b[0m in \u001b[0;36mstep\u001b[0;34m(self, closure)\u001b[0m\n\u001b[1;32m    116\u001b[0m                    \u001b[0mlr\u001b[0m\u001b[0;34m=\u001b[0m\u001b[0mgroup\u001b[0m\u001b[0;34m[\u001b[0m\u001b[0;34m'lr'\u001b[0m\u001b[0;34m]\u001b[0m\u001b[0;34m,\u001b[0m\u001b[0;34m\u001b[0m\u001b[0;34m\u001b[0m\u001b[0m\n\u001b[1;32m    117\u001b[0m                    \u001b[0mweight_decay\u001b[0m\u001b[0;34m=\u001b[0m\u001b[0mgroup\u001b[0m\u001b[0;34m[\u001b[0m\u001b[0;34m'weight_decay'\u001b[0m\u001b[0;34m]\u001b[0m\u001b[0;34m,\u001b[0m\u001b[0;34m\u001b[0m\u001b[0;34m\u001b[0m\u001b[0m\n\u001b[0;32m--> 118\u001b[0;31m                    eps=group['eps'])\n\u001b[0m\u001b[1;32m    119\u001b[0m         \u001b[0;32mreturn\u001b[0m \u001b[0mloss\u001b[0m\u001b[0;34m\u001b[0m\u001b[0;34m\u001b[0m\u001b[0m\n",
            "\u001b[0;32m/usr/local/lib/python3.7/dist-packages/torch/optim/_functional.py\u001b[0m in \u001b[0;36madam\u001b[0;34m(params, grads, exp_avgs, exp_avg_sqs, max_exp_avg_sqs, state_steps, amsgrad, beta1, beta2, lr, weight_decay, eps)\u001b[0m\n\u001b[1;32m     94\u001b[0m             \u001b[0mdenom\u001b[0m \u001b[0;34m=\u001b[0m \u001b[0;34m(\u001b[0m\u001b[0mexp_avg_sq\u001b[0m\u001b[0;34m.\u001b[0m\u001b[0msqrt\u001b[0m\u001b[0;34m(\u001b[0m\u001b[0;34m)\u001b[0m \u001b[0;34m/\u001b[0m \u001b[0mmath\u001b[0m\u001b[0;34m.\u001b[0m\u001b[0msqrt\u001b[0m\u001b[0;34m(\u001b[0m\u001b[0mbias_correction2\u001b[0m\u001b[0;34m)\u001b[0m\u001b[0;34m)\u001b[0m\u001b[0;34m.\u001b[0m\u001b[0madd_\u001b[0m\u001b[0;34m(\u001b[0m\u001b[0meps\u001b[0m\u001b[0;34m)\u001b[0m\u001b[0;34m\u001b[0m\u001b[0;34m\u001b[0m\u001b[0m\n\u001b[1;32m     95\u001b[0m \u001b[0;34m\u001b[0m\u001b[0m\n\u001b[0;32m---> 96\u001b[0;31m         \u001b[0mstep_size\u001b[0m \u001b[0;34m=\u001b[0m \u001b[0mlr\u001b[0m \u001b[0;34m/\u001b[0m \u001b[0mbias_correction1\u001b[0m\u001b[0;34m\u001b[0m\u001b[0;34m\u001b[0m\u001b[0m\n\u001b[0m\u001b[1;32m     97\u001b[0m \u001b[0;34m\u001b[0m\u001b[0m\n\u001b[1;32m     98\u001b[0m         \u001b[0mparam\u001b[0m\u001b[0;34m.\u001b[0m\u001b[0maddcdiv_\u001b[0m\u001b[0;34m(\u001b[0m\u001b[0mexp_avg\u001b[0m\u001b[0;34m,\u001b[0m \u001b[0mdenom\u001b[0m\u001b[0;34m,\u001b[0m \u001b[0mvalue\u001b[0m\u001b[0;34m=\u001b[0m\u001b[0;34m-\u001b[0m\u001b[0mstep_size\u001b[0m\u001b[0;34m)\u001b[0m\u001b[0;34m\u001b[0m\u001b[0;34m\u001b[0m\u001b[0m\n",
            "\u001b[0;31mKeyboardInterrupt\u001b[0m: "
          ]
        }
      ]
    },
    {
      "cell_type": "code",
      "metadata": {
        "colab": {
          "base_uri": "https://localhost:8080/"
        },
        "id": "iIbFnptJJmFG",
        "outputId": "4e07f116-17d3-44d4-d248-f0de535c05e8"
      },
      "source": [
        "with torch.no_grad():\n",
        "    n_correct = 0\n",
        "    n_samples = 0\n",
        "    n_class_correct = [0 for i in range(10)]\n",
        "    n_class_samples = [0 for i in range(10)]\n",
        "    for images, labels in testloader:\n",
        "        images = images.to(device)\n",
        "        labels = labels.to(device)\n",
        "        outputs = model_5(images)\n",
        "        _, predicted = torch.max(outputs, 1)\n",
        "        for i in range(len(predicted)):\n",
        "          n_samples += 1\n",
        "          if predicted[i] == labels[i]:\n",
        "            n_correct += 1\n",
        "            n_class_correct[labels[i]] += 1\n",
        "          n_class_samples[labels[i]] += 1\n",
        "\n",
        "    acc = 100.0 * n_correct / n_samples\n",
        "    print(f'Total Accuracy: {acc} %')\n",
        "\n",
        "    for i in range(10):\n",
        "        acc = 100.0 * n_class_correct[i] / n_class_samples[i]\n",
        "        print(f'Accuracy of {classes[i]}: {acc} %')"
      ],
      "execution_count": 9,
      "outputs": [
        {
          "output_type": "stream",
          "name": "stdout",
          "text": [
            "Total Accuracy: 70.96 %\n",
            "Accuracy of plane: 75.9 %\n",
            "Accuracy of car: 82.4 %\n",
            "Accuracy of bird: 56.9 %\n",
            "Accuracy of cat: 50.0 %\n",
            "Accuracy of deer: 64.0 %\n",
            "Accuracy of dog: 64.1 %\n",
            "Accuracy of frog: 75.2 %\n",
            "Accuracy of horse: 74.2 %\n",
            "Accuracy of ship: 85.1 %\n",
            "Accuracy of truck: 81.8 %\n"
          ]
        }
      ]
    },
    {
      "cell_type": "code",
      "metadata": {
        "colab": {
          "base_uri": "https://localhost:8080/",
          "height": 279
        },
        "id": "AeT94m3iJpNt",
        "outputId": "ddc0b919-d3b5-4b6c-e4fc-7373fa17123a"
      },
      "source": [
        "x = [i+1 for i in range(45)]\n",
        "plt.plot(x, train_losses, color = \"blue\", label = \"train loss\")\n",
        "# plt.plot(x, val_losses, color = \"red\", label = \"validation accuracy\")\n",
        "plt.xlabel(\"Epochs\")\n",
        "plt.ylabel(\"Negative Log Likelihood Loss\")\n",
        "plt.legend()\n",
        "plt.show()"
      ],
      "execution_count": 11,
      "outputs": [
        {
          "output_type": "display_data",
          "data": {
            "image/png": "[encoded data removed]",
            "text/plain": [
              "<Figure size 432x288 with 1 Axes>"
            ]
          },
          "metadata": {
            "needs_background": "light"
          }
        }
      ]
    },
    {
      "cell_type": "code",
      "metadata": {
        "colab": {
          "base_uri": "https://localhost:8080/",
          "height": 279
        },
        "id": "rANSQvsUJwG8",
        "outputId": "5e1e06b8-abdc-4e14-ba6b-ff0109bb4f01"
      },
      "source": [
        "x = [i+1 for i in range(45)]\n",
        "plt.plot(x, val_losses, color = \"red\", label = \"Validation accuracy\")\n",
        "# plt.plot(x, val_losses, color = \"red\", label = \"validation accuracy\")\n",
        "plt.xlabel(\"Epochs\")\n",
        "plt.ylabel(\"Negative Log Likelihood Loss\")\n",
        "plt.legend()\n",
        "plt.show()"
      ],
      "execution_count": 12,
      "outputs": [
        {
          "output_type": "display_data",
          "data": {
            "image/png": "[encoded data removed]",
            "text/plain": [
              "<Figure size 432x288 with 1 Axes>"
            ]
          },
          "metadata": {
            "needs_background": "light"
          }
        }
      ]
    },
    {
      "cell_type": "markdown",
      "metadata": {
        "id": "H94AcFGn0zkZ"
      },
      "source": [
        "## **Build VGG-19**"
      ]
    },
    {
      "cell_type": "code",
      "metadata": {
        "id": "dSQ1EQrZ0p_u"
      },
      "source": [
        "from torch.autograd import Variable\n",
        "class VGG(nn.Module):\n",
        "    def __init__(self, vgg_name):\n",
        "        super(VGG, self).__init__()\n",
        "        self.features = self.make_layers(vgg_name)\n",
        "        self.classifier = nn.Linear(512, 10)\n",
        "        self.activation = nn.LogSoftmax(dim=1)\n",
        "\n",
        "\n",
        "    def forward(self, x):\n",
        "        out = self.features(x)\n",
        "        out = out.view(out.size(0), -1)\n",
        "        out = self.classifier(out)\n",
        "        out = self.activation(out)\n",
        "        return out\n",
        "\n",
        "    def make_layers(self, cfg):\n",
        "        layers = []\n",
        "        in_channels = 3\n",
        "        for x in cfg:\n",
        "            if x == 'M':\n",
        "                layers += [nn.MaxPool2d(kernel_size=2, stride=2)]\n",
        "            else:\n",
        "                layers += [nn.Conv2d(in_channels, x, kernel_size=3, padding=1),\n",
        "                           nn.BatchNorm2d(x),\n",
        "                           nn.ReLU(inplace=True)]\n",
        "                in_channels = x\n",
        "        layers += [nn.AvgPool2d(kernel_size=1, stride=1)]\n",
        "        return nn.Sequential(*layers)\n"
      ],
      "execution_count": null,
      "outputs": []
    },
    {
      "cell_type": "markdown",
      "metadata": {
        "id": "IdvrrfpgaowK"
      },
      "source": [
        "## **VGGnet Model Training**"
      ]
    },
    {
      "cell_type": "code",
      "metadata": {
        "colab": {
          "base_uri": "https://localhost:8080/",
          "height": 627
        },
        "id": "ezzSo50e2Mim",
        "outputId": "d7c74851-067a-47f3-e4f8-fe2f2f6835e5"
      },
      "source": [
        "import torch.optim as optim\n",
        "net_arch19 = [64, 64, 'M', 128, 128, 'M', 256, 256, 256, 256, 'M', 512, 512, 512, 512, 'M', 512, 512, 512, 512, 'M']\n",
        "epoches = 400\n",
        "model_4 = VGG(net_arch19).to(device)\n",
        "train_losses = []\n",
        "val_losses = []\n",
        "criterion = nn.NLLLoss(reduction='sum')\n",
        "optimizer = optim.Adam(model_4.parameters(), lr=0.00005)\n",
        "n_total_steps = len(train_loader)\n",
        "\n",
        "for epoch in range(epoches):\n",
        "    total_train_loss = 0\n",
        "    for i, (images, labels) in enumerate(train_loader):\n",
        "        images = images.to(device)\n",
        "        labels = labels.to(device)\n",
        "\n",
        "        # Forward pass\n",
        "        outputs = model_4(images)\n",
        "        loss = criterion(outputs, labels)\n",
        "        total_train_loss += loss.item()\n",
        "        # Backward and optimize\n",
        "        optimizer.zero_grad()\n",
        "        loss.backward()\n",
        "        optimizer.step()\n",
        "\n",
        "      \n",
        "    n_correct = 0\n",
        "    n_samples = 0\n",
        "    for images, labels in val_loader:\n",
        "      images_val = images.to(device)\n",
        "      labels_val = labels.to(device)\n",
        "      outputs_val = model_4(images_val)\n",
        "      _, val_predicted = torch.max(outputs_val, 1)\n",
        "      for i in range(len(val_predicted)):\n",
        "        n_samples += 1\n",
        "        if val_predicted[i] == labels[i]:\n",
        "          n_correct += 1\n",
        "    acc = 100.0 * n_correct / n_samples\n",
        "    print (f'Epoch [{epoch+1}/{epoches}], Train Loss: {total_train_loss/train_size:.4f}, Validation Accuracy:{acc} %')\n",
        "    train_losses.append(total_train_loss/train_size)\n",
        "    val_losses.append(acc)"
      ],
      "execution_count": null,
      "outputs": [
        {
          "output_type": "stream",
          "name": "stdout",
          "text": [
            "Epoch [1/400], Train Loss: 1.4296, Validation Accuracy:59.88 %\n",
            "Epoch [2/400], Train Loss: 0.9580, Validation Accuracy:69.54 %\n",
            "Epoch [3/400], Train Loss: 0.7290, Validation Accuracy:74.4 %\n",
            "Epoch [4/400], Train Loss: 0.5876, Validation Accuracy:77.74 %\n",
            "Epoch [5/400], Train Loss: 0.4707, Validation Accuracy:79.56 %\n",
            "Epoch [6/400], Train Loss: 0.3812, Validation Accuracy:78.24 %\n",
            "Epoch [7/400], Train Loss: 0.3083, Validation Accuracy:79.8 %\n",
            "Epoch [8/400], Train Loss: 0.2489, Validation Accuracy:80.18 %\n",
            "Epoch [9/400], Train Loss: 0.2093, Validation Accuracy:80.4 %\n",
            "Epoch [10/400], Train Loss: 0.1735, Validation Accuracy:80.94 %\n",
            "Epoch [11/400], Train Loss: 0.1480, Validation Accuracy:81.8 %\n",
            "Epoch [12/400], Train Loss: 0.1307, Validation Accuracy:82.16 %\n",
            "Epoch [13/400], Train Loss: 0.1108, Validation Accuracy:81.52 %\n",
            "Epoch [14/400], Train Loss: 0.1025, Validation Accuracy:82.36 %\n",
            "Epoch [15/400], Train Loss: 0.0921, Validation Accuracy:82.16 %\n",
            "Epoch [16/400], Train Loss: 0.0816, Validation Accuracy:82.16 %\n",
            "Epoch [17/400], Train Loss: 0.0781, Validation Accuracy:82.3 %\n",
            "Epoch [18/400], Train Loss: 0.0710, Validation Accuracy:82.54 %\n",
            "Epoch [19/400], Train Loss: 0.0672, Validation Accuracy:82.04 %\n",
            "Epoch [20/400], Train Loss: 0.0609, Validation Accuracy:83.0 %\n",
            "Epoch [21/400], Train Loss: 0.0574, Validation Accuracy:82.56 %\n",
            "Epoch [22/400], Train Loss: 0.0567, Validation Accuracy:82.74 %\n",
            "Epoch [23/400], Train Loss: 0.0512, Validation Accuracy:82.52 %\n"
          ]
        },
        {
          "output_type": "error",
          "ename": "KeyboardInterrupt",
          "evalue": "ignored",
          "traceback": [
            "\u001b[0;31m---------------------------------------------------------------------------\u001b[0m",
            "\u001b[0;31mKeyboardInterrupt\u001b[0m                         Traceback (most recent call last)",
            "\u001b[0;32m<ipython-input-15-6d286690cbfa>\u001b[0m in \u001b[0;36m<module>\u001b[0;34m()\u001b[0m\n\u001b[1;32m     13\u001b[0m     \u001b[0mtotal_train_loss\u001b[0m \u001b[0;34m=\u001b[0m \u001b[0;36m0\u001b[0m\u001b[0;34m\u001b[0m\u001b[0;34m\u001b[0m\u001b[0m\n\u001b[1;32m     14\u001b[0m     \u001b[0;32mfor\u001b[0m \u001b[0mi\u001b[0m\u001b[0;34m,\u001b[0m \u001b[0;34m(\u001b[0m\u001b[0mimages\u001b[0m\u001b[0;34m,\u001b[0m \u001b[0mlabels\u001b[0m\u001b[0;34m)\u001b[0m \u001b[0;32min\u001b[0m \u001b[0menumerate\u001b[0m\u001b[0;34m(\u001b[0m\u001b[0mtrain_loader\u001b[0m\u001b[0;34m)\u001b[0m\u001b[0;34m:\u001b[0m\u001b[0;34m\u001b[0m\u001b[0;34m\u001b[0m\u001b[0m\n\u001b[0;32m---> 15\u001b[0;31m         \u001b[0mimages\u001b[0m \u001b[0;34m=\u001b[0m \u001b[0mimages\u001b[0m\u001b[0;34m.\u001b[0m\u001b[0mto\u001b[0m\u001b[0;34m(\u001b[0m\u001b[0mdevice\u001b[0m\u001b[0;34m)\u001b[0m\u001b[0;34m\u001b[0m\u001b[0;34m\u001b[0m\u001b[0m\n\u001b[0m\u001b[1;32m     16\u001b[0m         \u001b[0mlabels\u001b[0m \u001b[0;34m=\u001b[0m \u001b[0mlabels\u001b[0m\u001b[0;34m.\u001b[0m\u001b[0mto\u001b[0m\u001b[0;34m(\u001b[0m\u001b[0mdevice\u001b[0m\u001b[0;34m)\u001b[0m\u001b[0;34m\u001b[0m\u001b[0;34m\u001b[0m\u001b[0m\n\u001b[1;32m     17\u001b[0m \u001b[0;34m\u001b[0m\u001b[0m\n",
            "\u001b[0;31mKeyboardInterrupt\u001b[0m: "
          ]
        }
      ]
    },
    {
      "cell_type": "markdown",
      "metadata": {
        "id": "Oul5bT5ucCMr"
      },
      "source": [
        "## **Accuracy for VGG-19**"
      ]
    },
    {
      "cell_type": "code",
      "metadata": {
        "colab": {
          "base_uri": "https://localhost:8080/"
        },
        "id": "A3BhenMJe6mD",
        "outputId": "365c11ff-a46c-4a8e-c3f9-369a0defea00"
      },
      "source": [
        "with torch.no_grad():\n",
        "    n_correct = 0\n",
        "    n_samples = 0\n",
        "    n_class_correct = [0 for i in range(10)]\n",
        "    n_class_samples = [0 for i in range(10)]\n",
        "    for images, labels in testloader:\n",
        "        images = images.to(device)\n",
        "        labels = labels.to(device)\n",
        "        outputs = model_4(images)\n",
        "        _, predicted = torch.max(outputs, 1)\n",
        "        for i in range(len(predicted)):\n",
        "          n_samples += 1\n",
        "          if predicted[i] == labels[i]:\n",
        "            n_correct += 1\n",
        "            n_class_correct[labels[i]] += 1\n",
        "          n_class_samples[labels[i]] += 1\n",
        "\n",
        "    acc = 100.0 * n_correct / n_samples\n",
        "    print(f'Total Accuracy: {acc} %')\n",
        "\n",
        "    for i in range(10):\n",
        "        acc = 100.0 * n_class_correct[i] / n_class_samples[i]\n",
        "        print(f'Accuracy of {classes[i]}: {acc} %')"
      ],
      "execution_count": null,
      "outputs": [
        {
          "output_type": "stream",
          "name": "stdout",
          "text": [
            "Total Accuracy: 80.62 %\n",
            "Accuracy of plane: 81.6 %\n",
            "Accuracy of car: 95.4 %\n",
            "Accuracy of bird: 69.4 %\n",
            "Accuracy of cat: 75.2 %\n",
            "Accuracy of deer: 72.5 %\n",
            "Accuracy of dog: 74.5 %\n",
            "Accuracy of frog: 77.9 %\n",
            "Accuracy of horse: 91.8 %\n",
            "Accuracy of ship: 84.5 %\n",
            "Accuracy of truck: 83.4 %\n"
          ]
        }
      ]
    },
    {
      "cell_type": "code",
      "metadata": {
        "colab": {
          "base_uri": "https://localhost:8080/",
          "height": 279
        },
        "id": "haqZ9PosfAP7",
        "outputId": "7564b595-b27b-4fef-da66-ba68f8cfd994"
      },
      "source": [
        "x = [i+1 for i in range(23)]\n",
        "plt.plot(x, train_losses, color = \"blue\", label = \"train loss\")\n",
        "# plt.plot(x, val_losses, color = \"red\", label = \"validation accuracy\")\n",
        "plt.xlabel(\"Epochs\")\n",
        "plt.ylabel(\"Negative Log Likelihood loss\")\n",
        "plt.legend()\n",
        "plt.show()"
      ],
      "execution_count": null,
      "outputs": [
        {
          "output_type": "display_data",
          "data": {
            "image/png": "[encoded data removed]",
            "text/plain": [
              "<Figure size 432x288 with 1 Axes>"
            ]
          },
          "metadata": {
            "needs_background": "light"
          }
        }
      ]
    },
    {
      "cell_type": "code",
      "metadata": {
        "colab": {
          "base_uri": "https://localhost:8080/",
          "height": 279
        },
        "id": "dEuwWP8afWWY",
        "outputId": "6d033761-fe43-479c-c7fc-2ae2046cdcf0"
      },
      "source": [
        "x = [i+1 for i in range(23)]\n",
        "plt.plot(x, val_losses, color = \"red\", label = \"Validation accuracy\")\n",
        "# plt.plot(x, val_losses, color = \"red\", label = \"validation accuracy\")\n",
        "plt.xlabel(\"Epochs\")\n",
        "plt.ylabel(\"Accuracy\")\n",
        "plt.legend()\n",
        "plt.show()"
      ],
      "execution_count": null,
      "outputs": [
        {
          "output_type": "display_data",
          "data": {
            "image/png": "[encoded data removed]",
            "text/plain": [
              "<Figure size 432x288 with 1 Axes>"
            ]
          },
          "metadata": {
            "needs_background": "light"
          }
        }
      ]
    }
  ]
}